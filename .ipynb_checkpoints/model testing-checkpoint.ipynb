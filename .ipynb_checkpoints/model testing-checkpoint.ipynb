{
 "cells": [
  {
   "cell_type": "markdown",
   "id": "e913f1bf",
   "metadata": {},
   "source": [
    " <span style=\"color: purple; font-weight: bold; font-size:26px\"> Check if any models performs better than the naive classifier </span>\n",
    "\n",
    "\n",
    "Let's start by importing some libs"
   ]
  },
  {
   "cell_type": "code",
   "execution_count": 1,
   "id": "b72e7668",
   "metadata": {},
   "outputs": [],
   "source": [
    "# data analysis\n",
    "import pandas as pd\n",
    "import numpy as np\n",
    "import random\n",
    "\n",
    "# visualisations\n",
    "import seaborn \n",
    "import matplotlib.pyplot as plt\n",
    "%matplotlib inline\n",
    "\n",
    "# models\n",
    "from sklearn.linear_model import LogisticRegression\n",
    "from sklearn.svm import SVC, LinearSVC\n",
    "from sklearn.ensemble import RandomForestClassifier\n",
    "from sklearn.neighbors import KNeighborsClassifier\n",
    "from sklearn.naive_bayes import GaussianNB\n",
    "from sklearn.linear_model import Perceptron\n",
    "from sklearn.linear_model import SGDClassifier\n",
    "from sklearn.tree import DecisionTreeClassifier\n",
    "from sklearn.metrics import accuracy_score, classification_report,confusion_matrix\n",
    "import pickle # for saving the model\n",
    "\n",
    "# preprocesing\n",
    "from sklearn.pipeline import Pipeline\n",
    "from sklearn.preprocessing import StandardScaler, OneHotEncoder, FunctionTransformer\n",
    "from sklearn.compose import ColumnTransformer\n",
    "from sklearn.model_selection import train_test_split, GridSearchCV\n",
    "from sklearn.feature_selection import SelectKBest\n",
    "from sklearn.impute import KNNImputer\n",
    "\n",
    "# just out of curiosity\n",
    "import time\n"
   ]
  },
  {
   "cell_type": "markdown",
   "id": "52001656",
   "metadata": {},
   "source": [
    "Now, let's define some helper functions!\n"
   ]
  },
  {
   "cell_type": "code",
   "execution_count": 2,
   "id": "b9265a6a",
   "metadata": {},
   "outputs": [],
   "source": [
    "# let's define some helper functions:\n",
    "\n",
    "def plot_models_acc(dict, naive_classifier):\n",
    "    labels = tuple(dict.keys())\n",
    "    y_pos = np.arange(len(labels))\n",
    "    values = [dict[n]['accuracy'] for n in dict]\n",
    "    plt.bar(y_pos, values, align='center', alpha=0.5)\n",
    "    plt.xticks(y_pos, labels,rotation='vertical')\n",
    "    plt.ylabel('accuracy')\n",
    "    plt.title('Accuracy of different models')\n",
    "    # add a horizontal line at naive_classfier\n",
    "    plt.axhline(y=naive_classifier, color='r', linestyle='-', label='Naive Classifier')\n",
    "    plt.legend(loc='lower right')\n",
    "    \n",
    "    plt.show()\n",
    "\n",
    "    \n",
    "# checking the distribution of the features :)\n",
    "def feature_dist(dataframe):\n",
    "    col_num = len(dataframe.columns)\n",
    "    from_to_ind = [(i, i+6) for i in range(0, col_num, 6)]\n",
    "\n",
    "    for i, j in from_to_ind:\n",
    "        if j >= col_num:\n",
    "            if col_num - 1 == i:\n",
    "                dataframe.iloc[:, i].hist(figsize=(11,11))\n",
    "            else:\n",
    "                dataframe.iloc[:, i:col_num-1].hist(layout=(1,col_num - 1 - i), figsize=(11,11))\n",
    "        else:\n",
    "            dataframe.iloc[:, i:j].hist(layout=(2,3), figsize=(11,11))\n",
    "            \n",
    "            \n",
    "def conf_mat(grid_search: GridSearchCV, Y_test):\n",
    "    # construction confusion matrix\n",
    "    outcome_class_labels = ['Red', 'Draw', 'No contest', 'Blue']\n",
    "    cm = confusion_matrix(\n",
    "        Y_test, \n",
    "        grid_search.predict(X_test),\n",
    "        labels = outcome_class_labels\n",
    "    )\n",
    "\n",
    "    # create heatmap\n",
    "    seaborn.heatmap(\n",
    "        cm, \n",
    "        annot=True, \n",
    "        cmap='Blues', \n",
    "        xticklabels=outcome_class_labels,\n",
    "        yticklabels=outcome_class_labels,\n",
    "        fmt='d')\n",
    "\n",
    "    # add labels\n",
    "    plt.xlabel('Predicted')\n",
    "    plt.ylabel('True')\n",
    "    plt.show()\n",
    "\n",
    "    return cm"
   ]
  },
  {
   "cell_type": "markdown",
   "id": "d8b51020",
   "metadata": {},
   "source": [
    "### Importing data\n",
    "Let's import our data now. It will most likely change, since the older data seems to be a little weird. For example, most of the winners are on the red side, most of some data is missing etc."
   ]
  },
  {
   "cell_type": "code",
   "execution_count": 5,
   "id": "f8385526",
   "metadata": {},
   "outputs": [],
   "source": [
    "data = pd.read_excel(\"./UFCdata/datasets/UFC_complete_merged.xlsx\")\n",
    "data = data.sort_values('Event_Date', ascending=True).reset_index(drop=True)\n",
    "data = data.replace(['--', '---'], pd.NA)[2400:] \n",
    "# also just for now, but starting from 3000's row is a nice tradeoff\n",
    "# between a lower naive classifier accuracy and the completeness of the data\n",
    "\n",
    "# alternatively:\n",
    "# 3000 0.5640214216163584\n",
    "# 2400 0.5677570093457944\n",
    "# 1300 0.5728305785123967"
   ]
  },
  {
   "cell_type": "code",
   "execution_count": 6,
   "id": "deec5a19",
   "metadata": {},
   "outputs": [
    {
     "name": "stdout",
     "output_type": "stream",
     "text": [
      "<class 'pandas.core.frame.DataFrame'>\n",
      "RangeIndex: 4708 entries, 2400 to 7107\n",
      "Columns: 226 entries, Unnamed: 0.1 to B_Total_Significant_Strikes_on_Ground_Landed\n",
      "dtypes: bool(1), datetime64[ns](1), float64(182), int64(29), object(13)\n",
      "memory usage: 8.1+ MB\n"
     ]
    }
   ],
   "source": [
    "data.info()"
   ]
  },
  {
   "cell_type": "code",
   "execution_count": 7,
   "id": "6dc83d45",
   "metadata": {
    "scrolled": true
   },
   "outputs": [
    {
     "data": {
      "text/html": [
       "<div>\n",
       "<style scoped>\n",
       "    .dataframe tbody tr th:only-of-type {\n",
       "        vertical-align: middle;\n",
       "    }\n",
       "\n",
       "    .dataframe tbody tr th {\n",
       "        vertical-align: top;\n",
       "    }\n",
       "\n",
       "    .dataframe thead th {\n",
       "        text-align: right;\n",
       "    }\n",
       "</style>\n",
       "<table border=\"1\" class=\"dataframe\">\n",
       "  <thead>\n",
       "    <tr style=\"text-align: right;\">\n",
       "      <th></th>\n",
       "      <th>Unnamed: 0.1</th>\n",
       "      <th>Column1</th>\n",
       "      <th>Unnamed: 0</th>\n",
       "      <th>R_Height_cm</th>\n",
       "      <th>R_Weight_kg</th>\n",
       "      <th>R_Reach</th>\n",
       "      <th>R_Age</th>\n",
       "      <th>R_Average_Knockdowns</th>\n",
       "      <th>R_Average_Significant_Strikes_Attempted</th>\n",
       "      <th>R_Average_Significant_Strikes_Landed</th>\n",
       "      <th>...</th>\n",
       "      <th>B_Total_Significant_Strikes_on_Body_Attempted</th>\n",
       "      <th>B_Total_Significant_Strikes_on_Body_Landed</th>\n",
       "      <th>B_Total_Significant_Strikes_on_Leg_Attempted</th>\n",
       "      <th>B_Total_Significant_Strikes_on_Leg_Landed</th>\n",
       "      <th>B_Total_Significant_Strikes_at_Distance_Attempted</th>\n",
       "      <th>B_Total_Significant_Strikes_at_Distance_Landed</th>\n",
       "      <th>B_Total_Significant_Strikes_in_Clinch_Attempted</th>\n",
       "      <th>B_Total_Significant_Strikes_in_Clinch_Landed</th>\n",
       "      <th>B_Total_Significant_Strikes_on_Ground_Attempted</th>\n",
       "      <th>B_Total_Significant_Strikes_on_Ground_Landed</th>\n",
       "    </tr>\n",
       "  </thead>\n",
       "  <tbody>\n",
       "    <tr>\n",
       "      <th>count</th>\n",
       "      <td>4708.000000</td>\n",
       "      <td>4708.000000</td>\n",
       "      <td>4708.000000</td>\n",
       "      <td>4708.000000</td>\n",
       "      <td>4708.000000</td>\n",
       "      <td>4624.000000</td>\n",
       "      <td>4708.000000</td>\n",
       "      <td>4708.000000</td>\n",
       "      <td>4708.000000</td>\n",
       "      <td>4708.000000</td>\n",
       "      <td>...</td>\n",
       "      <td>4649.000000</td>\n",
       "      <td>4649.000000</td>\n",
       "      <td>4649.000000</td>\n",
       "      <td>4649.000000</td>\n",
       "      <td>4649.000000</td>\n",
       "      <td>4649.000000</td>\n",
       "      <td>4649.000000</td>\n",
       "      <td>4649.000000</td>\n",
       "      <td>4649.000000</td>\n",
       "      <td>4649.000000</td>\n",
       "    </tr>\n",
       "    <tr>\n",
       "      <th>mean</th>\n",
       "      <td>3612.097281</td>\n",
       "      <td>3612.097281</td>\n",
       "      <td>3612.097281</td>\n",
       "      <td>177.486007</td>\n",
       "      <td>73.803937</td>\n",
       "      <td>182.092842</td>\n",
       "      <td>30.937128</td>\n",
       "      <td>0.239183</td>\n",
       "      <td>80.829807</td>\n",
       "      <td>36.052094</td>\n",
       "      <td>...</td>\n",
       "      <td>55.493439</td>\n",
       "      <td>38.120456</td>\n",
       "      <td>36.712196</td>\n",
       "      <td>29.491934</td>\n",
       "      <td>347.559045</td>\n",
       "      <td>134.778232</td>\n",
       "      <td>40.574102</td>\n",
       "      <td>28.143902</td>\n",
       "      <td>41.047967</td>\n",
       "      <td>28.254463</td>\n",
       "    </tr>\n",
       "    <tr>\n",
       "      <th>std</th>\n",
       "      <td>2022.513871</td>\n",
       "      <td>2022.513871</td>\n",
       "      <td>2022.513871</td>\n",
       "      <td>9.244279</td>\n",
       "      <td>16.030511</td>\n",
       "      <td>11.308305</td>\n",
       "      <td>4.246129</td>\n",
       "      <td>0.297608</td>\n",
       "      <td>47.929491</td>\n",
       "      <td>21.297735</td>\n",
       "      <td>...</td>\n",
       "      <td>76.705121</td>\n",
       "      <td>53.215970</td>\n",
       "      <td>55.687494</td>\n",
       "      <td>44.686853</td>\n",
       "      <td>461.181088</td>\n",
       "      <td>183.923457</td>\n",
       "      <td>57.322420</td>\n",
       "      <td>40.459024</td>\n",
       "      <td>62.134152</td>\n",
       "      <td>42.453027</td>\n",
       "    </tr>\n",
       "    <tr>\n",
       "      <th>min</th>\n",
       "      <td>31.000000</td>\n",
       "      <td>31.000000</td>\n",
       "      <td>31.000000</td>\n",
       "      <td>152.400000</td>\n",
       "      <td>52.154195</td>\n",
       "      <td>147.320000</td>\n",
       "      <td>18.000000</td>\n",
       "      <td>0.000000</td>\n",
       "      <td>0.000000</td>\n",
       "      <td>0.000000</td>\n",
       "      <td>...</td>\n",
       "      <td>0.000000</td>\n",
       "      <td>0.000000</td>\n",
       "      <td>0.000000</td>\n",
       "      <td>0.000000</td>\n",
       "      <td>0.000000</td>\n",
       "      <td>0.000000</td>\n",
       "      <td>0.000000</td>\n",
       "      <td>0.000000</td>\n",
       "      <td>0.000000</td>\n",
       "      <td>0.000000</td>\n",
       "    </tr>\n",
       "    <tr>\n",
       "      <th>25%</th>\n",
       "      <td>1900.750000</td>\n",
       "      <td>1900.750000</td>\n",
       "      <td>1900.750000</td>\n",
       "      <td>170.180000</td>\n",
       "      <td>61.224490</td>\n",
       "      <td>175.260000</td>\n",
       "      <td>28.000000</td>\n",
       "      <td>0.000000</td>\n",
       "      <td>49.000000</td>\n",
       "      <td>22.333333</td>\n",
       "      <td>...</td>\n",
       "      <td>4.000000</td>\n",
       "      <td>3.000000</td>\n",
       "      <td>2.000000</td>\n",
       "      <td>1.000000</td>\n",
       "      <td>26.000000</td>\n",
       "      <td>9.000000</td>\n",
       "      <td>1.000000</td>\n",
       "      <td>1.000000</td>\n",
       "      <td>0.000000</td>\n",
       "      <td>0.000000</td>\n",
       "    </tr>\n",
       "    <tr>\n",
       "      <th>50%</th>\n",
       "      <td>3580.500000</td>\n",
       "      <td>3580.500000</td>\n",
       "      <td>3580.500000</td>\n",
       "      <td>177.800000</td>\n",
       "      <td>70.294785</td>\n",
       "      <td>182.880000</td>\n",
       "      <td>31.000000</td>\n",
       "      <td>0.166667</td>\n",
       "      <td>78.324561</td>\n",
       "      <td>34.763889</td>\n",
       "      <td>...</td>\n",
       "      <td>29.000000</td>\n",
       "      <td>20.000000</td>\n",
       "      <td>16.000000</td>\n",
       "      <td>13.000000</td>\n",
       "      <td>192.000000</td>\n",
       "      <td>74.000000</td>\n",
       "      <td>19.000000</td>\n",
       "      <td>13.000000</td>\n",
       "      <td>16.000000</td>\n",
       "      <td>12.000000</td>\n",
       "    </tr>\n",
       "    <tr>\n",
       "      <th>75%</th>\n",
       "      <td>5392.250000</td>\n",
       "      <td>5392.250000</td>\n",
       "      <td>5392.250000</td>\n",
       "      <td>185.420000</td>\n",
       "      <td>83.900227</td>\n",
       "      <td>190.500000</td>\n",
       "      <td>34.000000</td>\n",
       "      <td>0.363636</td>\n",
       "      <td>109.297619</td>\n",
       "      <td>48.426901</td>\n",
       "      <td>...</td>\n",
       "      <td>75.000000</td>\n",
       "      <td>52.000000</td>\n",
       "      <td>48.000000</td>\n",
       "      <td>39.000000</td>\n",
       "      <td>470.000000</td>\n",
       "      <td>180.000000</td>\n",
       "      <td>54.000000</td>\n",
       "      <td>37.000000</td>\n",
       "      <td>56.000000</td>\n",
       "      <td>39.000000</td>\n",
       "    </tr>\n",
       "    <tr>\n",
       "      <th>max</th>\n",
       "      <td>7096.000000</td>\n",
       "      <td>7096.000000</td>\n",
       "      <td>7096.000000</td>\n",
       "      <td>210.820000</td>\n",
       "      <td>120.181406</td>\n",
       "      <td>213.360000</td>\n",
       "      <td>46.000000</td>\n",
       "      <td>3.000000</td>\n",
       "      <td>367.000000</td>\n",
       "      <td>189.000000</td>\n",
       "      <td>...</td>\n",
       "      <td>857.000000</td>\n",
       "      <td>639.000000</td>\n",
       "      <td>610.000000</td>\n",
       "      <td>494.000000</td>\n",
       "      <td>5490.000000</td>\n",
       "      <td>2454.000000</td>\n",
       "      <td>464.000000</td>\n",
       "      <td>330.000000</td>\n",
       "      <td>630.000000</td>\n",
       "      <td>442.000000</td>\n",
       "    </tr>\n",
       "  </tbody>\n",
       "</table>\n",
       "<p>8 rows × 211 columns</p>\n",
       "</div>"
      ],
      "text/plain": [
       "       Unnamed: 0.1      Column1   Unnamed: 0  R_Height_cm  R_Weight_kg  \\\n",
       "count   4708.000000  4708.000000  4708.000000  4708.000000  4708.000000   \n",
       "mean    3612.097281  3612.097281  3612.097281   177.486007    73.803937   \n",
       "std     2022.513871  2022.513871  2022.513871     9.244279    16.030511   \n",
       "min       31.000000    31.000000    31.000000   152.400000    52.154195   \n",
       "25%     1900.750000  1900.750000  1900.750000   170.180000    61.224490   \n",
       "50%     3580.500000  3580.500000  3580.500000   177.800000    70.294785   \n",
       "75%     5392.250000  5392.250000  5392.250000   185.420000    83.900227   \n",
       "max     7096.000000  7096.000000  7096.000000   210.820000   120.181406   \n",
       "\n",
       "           R_Reach        R_Age  R_Average_Knockdowns  \\\n",
       "count  4624.000000  4708.000000           4708.000000   \n",
       "mean    182.092842    30.937128              0.239183   \n",
       "std      11.308305     4.246129              0.297608   \n",
       "min     147.320000    18.000000              0.000000   \n",
       "25%     175.260000    28.000000              0.000000   \n",
       "50%     182.880000    31.000000              0.166667   \n",
       "75%     190.500000    34.000000              0.363636   \n",
       "max     213.360000    46.000000              3.000000   \n",
       "\n",
       "       R_Average_Significant_Strikes_Attempted  \\\n",
       "count                              4708.000000   \n",
       "mean                                 80.829807   \n",
       "std                                  47.929491   \n",
       "min                                   0.000000   \n",
       "25%                                  49.000000   \n",
       "50%                                  78.324561   \n",
       "75%                                 109.297619   \n",
       "max                                 367.000000   \n",
       "\n",
       "       R_Average_Significant_Strikes_Landed  ...  \\\n",
       "count                           4708.000000  ...   \n",
       "mean                              36.052094  ...   \n",
       "std                               21.297735  ...   \n",
       "min                                0.000000  ...   \n",
       "25%                               22.333333  ...   \n",
       "50%                               34.763889  ...   \n",
       "75%                               48.426901  ...   \n",
       "max                              189.000000  ...   \n",
       "\n",
       "       B_Total_Significant_Strikes_on_Body_Attempted  \\\n",
       "count                                    4649.000000   \n",
       "mean                                       55.493439   \n",
       "std                                        76.705121   \n",
       "min                                         0.000000   \n",
       "25%                                         4.000000   \n",
       "50%                                        29.000000   \n",
       "75%                                        75.000000   \n",
       "max                                       857.000000   \n",
       "\n",
       "       B_Total_Significant_Strikes_on_Body_Landed  \\\n",
       "count                                 4649.000000   \n",
       "mean                                    38.120456   \n",
       "std                                     53.215970   \n",
       "min                                      0.000000   \n",
       "25%                                      3.000000   \n",
       "50%                                     20.000000   \n",
       "75%                                     52.000000   \n",
       "max                                    639.000000   \n",
       "\n",
       "       B_Total_Significant_Strikes_on_Leg_Attempted  \\\n",
       "count                                   4649.000000   \n",
       "mean                                      36.712196   \n",
       "std                                       55.687494   \n",
       "min                                        0.000000   \n",
       "25%                                        2.000000   \n",
       "50%                                       16.000000   \n",
       "75%                                       48.000000   \n",
       "max                                      610.000000   \n",
       "\n",
       "       B_Total_Significant_Strikes_on_Leg_Landed  \\\n",
       "count                                4649.000000   \n",
       "mean                                   29.491934   \n",
       "std                                    44.686853   \n",
       "min                                     0.000000   \n",
       "25%                                     1.000000   \n",
       "50%                                    13.000000   \n",
       "75%                                    39.000000   \n",
       "max                                   494.000000   \n",
       "\n",
       "       B_Total_Significant_Strikes_at_Distance_Attempted  \\\n",
       "count                                        4649.000000   \n",
       "mean                                          347.559045   \n",
       "std                                           461.181088   \n",
       "min                                             0.000000   \n",
       "25%                                            26.000000   \n",
       "50%                                           192.000000   \n",
       "75%                                           470.000000   \n",
       "max                                          5490.000000   \n",
       "\n",
       "       B_Total_Significant_Strikes_at_Distance_Landed  \\\n",
       "count                                     4649.000000   \n",
       "mean                                       134.778232   \n",
       "std                                        183.923457   \n",
       "min                                          0.000000   \n",
       "25%                                          9.000000   \n",
       "50%                                         74.000000   \n",
       "75%                                        180.000000   \n",
       "max                                       2454.000000   \n",
       "\n",
       "       B_Total_Significant_Strikes_in_Clinch_Attempted  \\\n",
       "count                                      4649.000000   \n",
       "mean                                         40.574102   \n",
       "std                                          57.322420   \n",
       "min                                           0.000000   \n",
       "25%                                           1.000000   \n",
       "50%                                          19.000000   \n",
       "75%                                          54.000000   \n",
       "max                                         464.000000   \n",
       "\n",
       "       B_Total_Significant_Strikes_in_Clinch_Landed  \\\n",
       "count                                   4649.000000   \n",
       "mean                                      28.143902   \n",
       "std                                       40.459024   \n",
       "min                                        0.000000   \n",
       "25%                                        1.000000   \n",
       "50%                                       13.000000   \n",
       "75%                                       37.000000   \n",
       "max                                      330.000000   \n",
       "\n",
       "       B_Total_Significant_Strikes_on_Ground_Attempted  \\\n",
       "count                                      4649.000000   \n",
       "mean                                         41.047967   \n",
       "std                                          62.134152   \n",
       "min                                           0.000000   \n",
       "25%                                           0.000000   \n",
       "50%                                          16.000000   \n",
       "75%                                          56.000000   \n",
       "max                                         630.000000   \n",
       "\n",
       "       B_Total_Significant_Strikes_on_Ground_Landed  \n",
       "count                                   4649.000000  \n",
       "mean                                      28.254463  \n",
       "std                                       42.453027  \n",
       "min                                        0.000000  \n",
       "25%                                        0.000000  \n",
       "50%                                       12.000000  \n",
       "75%                                       39.000000  \n",
       "max                                      442.000000  \n",
       "\n",
       "[8 rows x 211 columns]"
      ]
     },
     "execution_count": 7,
     "metadata": {},
     "output_type": "execute_result"
    }
   ],
   "source": [
    "data.describe()"
   ]
  },
  {
   "cell_type": "code",
   "execution_count": null,
   "id": "a0d10e7f",
   "metadata": {},
   "outputs": [],
   "source": [
    "data.describe(include=['O'])"
   ]
  },
  {
   "cell_type": "code",
   "execution_count": null,
   "id": "f1fc9aa7",
   "metadata": {
    "scrolled": true
   },
   "outputs": [],
   "source": [
    "data.head()"
   ]
  },
  {
   "cell_type": "markdown",
   "id": "81eb14d1",
   "metadata": {},
   "source": [
    "### Naive classifier\n",
    "\n",
    "The naive classifier that would be the least we should beat is the proportion of Red Winners to all fights outcomes, since it's the most common result."
   ]
  },
  {
   "cell_type": "code",
   "execution_count": 8,
   "id": "e565ddef",
   "metadata": {},
   "outputs": [
    {
     "name": "stdout",
     "output_type": "stream",
     "text": [
      "The naive classifier accuracy is:  0.5677570093457944\n"
     ]
    }
   ],
   "source": [
    "naive_classifier = data.loc[data['Winner'] == 'Red']['Winner'].count() / data['Winner'].count()\n",
    "print(\"The naive classifier accuracy is: \", naive_classifier)"
   ]
  },
  {
   "cell_type": "markdown",
   "id": "2fffa9d3",
   "metadata": {},
   "source": [
    "It will be quite hard to beat, hence it explains the need to re-run the scraper to obtain more recent data about the fights, since the naive classifier will drop significantly to a little bit over 56%.\n"
   ]
  },
  {
   "cell_type": "markdown",
   "id": "4598442b",
   "metadata": {},
   "source": [
    "We further need to drop some of the columns that will not be of use. I'll also remove closing odds since these will surely improve the model accuracy, but we shouldn't rely on them too much\n"
   ]
  },
  {
   "cell_type": "code",
   "execution_count": 9,
   "id": "277d58a4",
   "metadata": {},
   "outputs": [],
   "source": [
    "dropdata = data.drop(['Column1',\n",
    "                      'Unnamed: 0',\n",
    "                      'Unnamed: 0.1',\n",
    "                      'Event_Name',\n",
    "                      'Event_Location',\n",
    "                      'B_Name',\n",
    "                      'R_Name',\n",
    "                      'Conclusion_Method',\n",
    "                      'Event_Date',\n",
    "                      'Last_Round_Duration',\n",
    "                      'Number_of_Rounds',\n",
    "                      'Referee',\n",
    "                      'R_Closing_Odds', # bye bye closing odds...\n",
    "                      'B_Closing_Odds'], axis=1)\n",
    "\n",
    "# droping rows with 'Open Stance' since it's so seldom (but shouldn't be present for 2400 row onward)\n",
    "dropdata = dropdata.drop(dropdata[dropdata['R_Stance'] == 'Open Stance'].index)\n",
    "dropdata = dropdata.drop(dropdata[dropdata['B_Stance'] == 'Open Stance'].index)"
   ]
  },
  {
   "cell_type": "markdown",
   "id": "473eaaa2",
   "metadata": {},
   "source": [
    "Next, let's find numerical and categorical columns in our dataset. "
   ]
  },
  {
   "cell_type": "code",
   "execution_count": 12,
   "id": "6704eeec",
   "metadata": {},
   "outputs": [],
   "source": [
    "objecttypes_cat = list(dropdata.select_dtypes(include=['O']).columns)\n",
    "objecttypes_num = list(dropdata.select_dtypes(include=['int64', 'float64']).columns)\n",
    "\n",
    "# we don't want to one-hot encode 'Winner' since it's not really required\n",
    "# and the pipeline braeks if we do (it'll be looking for this var in \n",
    "# X_train&X_test but it's obviously not there)\n",
    "objecttypes_cat = [x for x in objecttypes_cat if x != 'Winner']"
   ]
  },
  {
   "cell_type": "markdown",
   "id": "890ed5c3",
   "metadata": {},
   "source": [
    "## Data correlation\n",
    "\n",
    "Since we are givem a considerate number of features, instead of presenting all possible correlations, we'll stick to N most significant ones.\n"
   ]
  },
  {
   "cell_type": "code",
   "execution_count": null,
   "id": "de15db33",
   "metadata": {
    "scrolled": true
   },
   "outputs": [],
   "source": [
    "# # Subset Correlation Matrix\n",
    "# k = 10 #number of variables for heatmap\n",
    "# corrmat = dropdata.corr()\n",
    "# cols = corrmat.nlargest(k, 'Winner')['Winner'].index\n",
    "# cm = np.corrcoef(dropdata[cols].values.T)\n",
    "# seaborn.set(font_scale=1.25)\n",
    "# hm = seaborn.heatmap(cm, cbar=True, annot=True, square=True, fmt='.2f', annot_kws={'size': 10}, yticklabels=cols.values, xticklabels=cols.values)\n",
    "# plt.show()"
   ]
  },
  {
   "cell_type": "markdown",
   "id": "c1231426",
   "metadata": {},
   "source": [
    "# Candidate models\n",
    "\n",
    "We've chosen the following candidate models that we will further try to get the best performance from. In the end, we will present a comparison of each model.\n",
    "\n",
    "#### - Perceptron\n",
    "#### - Random Forests\n",
    "#### - Decision Trees Classifier\n",
    "#### - SGD Classifier\n",
    "#### - Linear SVC\n",
    "#### - Gaussian Naive Bayes\n",
    "#### - KNN\n"
   ]
  },
  {
   "cell_type": "code",
   "execution_count": 10,
   "id": "830d651b",
   "metadata": {},
   "outputs": [],
   "source": [
    "tuned_models = dict()"
   ]
  },
  {
   "cell_type": "markdown",
   "id": "d0187d88",
   "metadata": {},
   "source": [
    "### Standardizing the data (based on X_train):"
   ]
  },
  {
   "cell_type": "code",
   "execution_count": 21,
   "id": "14bce0e7",
   "metadata": {},
   "outputs": [
    {
     "name": "stdout",
     "output_type": "stream",
     "text": [
      "231\n"
     ]
    }
   ],
   "source": [
    "# Set the random seed\n",
    "random.seed(2137)\n",
    "np.random.seed(2137)\n",
    "\n",
    "Y_all = dropdata['Winner']\n",
    "X_all = dropdata.drop(['Winner'], axis=1)\n",
    "X_train, X_test, Y_train, Y_test = train_test_split(X_all, Y_all, test_size=0.25, random_state=2023)\n",
    "\n",
    "# standardizer for numerical columns\n",
    "transformer_num = Pipeline([\n",
    "    ('scaler', StandardScaler())\n",
    "])\n",
    "\n",
    "# standardizer for categorical columns\n",
    "transformer_cat = Pipeline([\n",
    "    ('scaler', OneHotEncoder())\n",
    "])\n",
    "\n",
    "# jumping into using these into the preprocessor for all features:\n",
    "preprocessor = ColumnTransformer(\n",
    "    transformers = [\n",
    "        ('num', transformer_num, objecttypes_num),\n",
    "        ('cat', transformer_cat, objecttypes_cat)   # no 'Winner' encoded\n",
    "], remainder='passthrough')\n",
    "\n",
    "# the standardization should be based on the training set, hence we obtain the relevant parameters:\n",
    "preprocessor.fit_transform(X_train)"
   ]
  },
  {
   "cell_type": "markdown",
   "id": "a78a89b0",
   "metadata": {},
   "source": [
    "## Perceptron:\n",
    "\n",
    "The Perceptron is another simple classification algorithm suitable for large scale learning. By default:\n",
    "\n",
    "        It does not require a learning rate.\n",
    "\n",
    "        It is not regularized (penalized).\n",
    "\n",
    "        It updates its model only on mistakes.\n",
    "\n",
    "The last characteristic implies that the Perceptron is slightly faster to train than SGD with the hinge loss and that the resulting models are sparser.\n",
    "\n",
    "- Linearly separable"
   ]
  },
  {
   "cell_type": "code",
   "execution_count": 23,
   "id": "2fe529a5",
   "metadata": {
    "scrolled": true
   },
   "outputs": [
    {
     "name": "stdout",
     "output_type": "stream",
     "text": [
      "Fitting 5 folds for each of 1680 candidates, totalling 8400 fits\n",
      "Accuracy on the test set:  0.47068819031435855\n",
      "\n",
      "Best parameters after the grid search:  {'model__alpha': 0.01, 'model__max_iter': 500, 'model__penalty': 'l1', 'model__tol': 0.001, 'selector__k': 50}\n",
      "\n",
      "Time taken for model to learn:  3234.0117008686066  seconds\n"
     ]
    }
   ],
   "source": [
    "# starting the timer to see how much time it takes\n",
    "start_time = time.time()\n",
    "\n",
    "# Let's define the model\n",
    "pipeline = Pipeline([\n",
    "    ('preprocessor', preprocessor),\n",
    "    ('imputer', KNNImputer()),\n",
    "    ('selector', SelectKBest()),\n",
    "    ('model', Perceptron(random_state=2023))\n",
    "])\n",
    "\n",
    "\n",
    "# Define the parameter grid\n",
    "param_grid = {\n",
    "    'selector__k': [10, 20, 30, 40, 50, 60, len(preprocessor.get_feature_names_out())],\n",
    "    'model__penalty': ['elasticnet', 'l2', 'l1', None],\n",
    "    'model__alpha': [0.01, 0.001, 0.0001, 0.00001],\n",
    "    'model__max_iter': [500, 1000, 1500],\n",
    "    'model__tol': [0.1, 0.01, 0.001, 0.0001, 0.00001]\n",
    "}\n",
    "\n",
    "# create the grid search object\n",
    "grid_search = GridSearchCV(pipeline, param_grid=param_grid, cv=5, n_jobs=3, verbose=2)\n",
    "\n",
    "# fit the grid search object to the data\n",
    "grid_search.fit(X_train, Y_train)\n",
    "\n",
    "# evaluate the best model on the test set\n",
    "score = grid_search.score(X_test, Y_test)\n",
    "\n",
    "# stopping the timer and seeing the result: ------------------------\n",
    "end_time = time.time()\n",
    "\n",
    "print('Accuracy on the test set: ', score)\n",
    "print('\\nBest parameters after the grid search: ', grid_search.best_params_)\n",
    "print(\"\\nTime taken for model to learn: \", end_time - start_time, \" seconds\")"
   ]
  },
  {
   "cell_type": "code",
   "execution_count": null,
   "id": "d2015954",
   "metadata": {},
   "outputs": [],
   "source": [
    "# save the model to disk using pickle\n",
    "if input('Are you sure you want to run this cell? It will overwrite current best model. Y/N: ') == 'Y':\n",
    "    with open('trained_models/best_perceptron_model.pkl', 'wb') as f:\n",
    "        pickle.dump(grid_search, f)"
   ]
  },
  {
   "cell_type": "code",
   "execution_count": 19,
   "id": "82fecf67",
   "metadata": {},
   "outputs": [
    {
     "name": "stdout",
     "output_type": "stream",
     "text": [
      "Best parameters after the grid search:  {'model__alpha': 0.001, 'model__max_iter': 50, 'model__penalty': 'elasticnet', 'model__tol': 0.1, 'selector__k': 40}\n"
     ]
    }
   ],
   "source": [
    "# load the best model from disk using pickle\n",
    "with open('trained_models/best_perceptron_model.pkl', 'rb') as f:\n",
    "    model = pickle.load(f)\n",
    "\n",
    "print('Best parameters after the grid search: ', model.best_params_)"
   ]
  },
  {
   "cell_type": "code",
   "execution_count": null,
   "id": "270af42b",
   "metadata": {
    "scrolled": true
   },
   "outputs": [],
   "source": [
    "# Get the selected feature indices after SelectKBest() in the best estimator\n",
    "selected_feature_indices = model.best_estimator_.named_steps['selector'].get_support(indices=True)\n",
    "\n",
    "# Get the column names of the selected features\n",
    "selected_feature_names = preprocessor.get_feature_names_out()[selected_feature_indices]\n",
    "print('Columns after feature selection: ', selected_feature_names)"
   ]
  },
  {
   "cell_type": "code",
   "execution_count": null,
   "id": "271356a4",
   "metadata": {},
   "outputs": [],
   "source": [
    "# storing accuracy score:\n",
    "acc_sco = accuracy_score(Y_test, model.predict(X_test)) \n",
    "\n",
    "# storing accuracy score:\n",
    "acc_sco = accuracy_score(Y_test, model.predict(X_test)) \n",
    "\n",
    "# construction confusion matrix\n",
    "cm = conf_mat(model, Y_test)\n",
    "\n",
    "# store model results in tuned_models dictionary\n",
    "\n",
    "print('Accuracy on the test set: ',acc_sco)\n",
    "tuned_models['Perceptron'] = {'accuracy': acc_sco, 'model': model, 'confusion_matrix': cm}\n",
    "\n",
    "# store model results in tuned_models dictionary\n",
    "\n",
    "tuned_models['Perceptron'] = {'accuracy': acc_sco, 'model': model, 'confusion_matrix': cm}"
   ]
  },
  {
   "cell_type": "markdown",
   "id": "0d5e6f4b",
   "metadata": {},
   "source": [
    "## Random Forest Classifier\n",
    "\n",
    "A random forest classifier.\n",
    "\n",
    "A random forest is a meta estimator that fits a number of decision tree classifiers on various sub-samples of the dataset and uses averaging to improve the predictive accuracy and control over-fitting. The sub-sample size is controlled with the max_samples parameter if bootstrap=True (default), otherwise the whole dataset is used to build each tree."
   ]
  },
  {
   "cell_type": "code",
   "execution_count": null,
   "id": "e7dd91b2",
   "metadata": {
    "scrolled": true
   },
   "outputs": [
    {
     "name": "stdout",
     "output_type": "stream",
     "text": [
      "Fitting 5 folds for each of 84 candidates, totalling 420 fits\n"
     ]
    }
   ],
   "source": [
    "# starting the timer to see how much time it takes\n",
    "start_time = time.time()\n",
    "\n",
    "# Let's define the model\n",
    "pipeline = Pipeline([\n",
    "    ('preprocessor', preprocessor),\n",
    "    ('imputer', KNNImputer()),\n",
    "    ('selector', SelectKBest()),\n",
    "    ('model', RandomForestClassifier(random_state=2023))\n",
    "])\n",
    "\n",
    "\n",
    "# Define the parameter grid\n",
    "param_grid = {\n",
    "    'selector__k': [5, 15, 35, 60, 90, 120, len(preprocessor.get_feature_names_out())],\n",
    "    'model__n_estimators': [100, 200],\n",
    "    'model__criterion': ['gini'],\n",
    "    'model__max_depth': [None],\n",
    "    'model__min_samples_split': [2, 4, 6],\n",
    "    'model__min_samples_leaf': [1, 2],\n",
    "    'model__max_features': ['sqrt']\n",
    "}\n",
    "\n",
    "# create the grid search object\n",
    "grid_search = GridSearchCV(pipeline, param_grid=param_grid, cv=5, verbose=2, n_jobs=4)\n",
    "\n",
    "# fit the grid search object to the data\n",
    "grid_search.fit(X_train, Y_train)\n",
    "\n",
    "# evaluate the best model on the test set\n",
    "score = grid_search.score(X_test, Y_test)\n",
    "\n",
    "# stopping the timer and seeing the result: ------------------------\n",
    "end_time = time.time()\n",
    "\n",
    "print('Accuracy on the test set: ', score)\n",
    "print('\\nBest parameters after the grid search: ', grid_search.best_params_)\n",
    "print(\"\\nTime taken for model to learn: \", end_time - start_time, \" seconds\")"
   ]
  },
  {
   "cell_type": "code",
   "execution_count": 32,
   "id": "030b0c30",
   "metadata": {},
   "outputs": [
    {
     "name": "stdout",
     "output_type": "stream",
     "text": [
      "Are you sure you want to run this cell? It will overwrite current best model. Y/N: Y\n"
     ]
    }
   ],
   "source": [
    "# save the model to disk using pickle\n",
    "if input('Are you sure you want to run this cell? It will overwrite current best model. Y/N: ') == 'Y':\n",
    "    with open('trained_models/best_random_forest_model.pkl', 'wb') as f:\n",
    "        pickle.dump(grid_search, f)"
   ]
  },
  {
   "cell_type": "code",
   "execution_count": 34,
   "id": "39135fb5",
   "metadata": {
    "scrolled": true
   },
   "outputs": [
    {
     "name": "stdout",
     "output_type": "stream",
     "text": [
      "Best parameters after the grid search:  {'model__criterion': 'gini', 'model__max_depth': None, 'model__max_features': 'sqrt', 'model__min_samples_leaf': 1, 'model__min_samples_split': 4, 'model__n_estimators': 200, 'selector__k': 90}\n"
     ]
    }
   ],
   "source": [
    "# load the best model from disk using pickle\n",
    "with open('trained_models/best_random_forest_model.pkl', 'rb') as f:\n",
    "    model = pickle.load(f)\n",
    " \n",
    "print('Best parameters after the grid search: ', model.best_params_)"
   ]
  },
  {
   "cell_type": "code",
   "execution_count": null,
   "id": "cf56ff01",
   "metadata": {
    "scrolled": true
   },
   "outputs": [],
   "source": [
    "# Get the selected feature indices after SelectKBest() in the best estimator\n",
    "selected_feature_indices = model.best_estimator_.named_steps['selector'].get_support(indices=True)\n",
    "\n",
    "# Get the column names of the selected features\n",
    "selected_feature_names = preprocessor.get_feature_names_out()[selected_feature_indices]\n",
    "print('\\nColumns after feature selection: ', selected_feature_names)"
   ]
  },
  {
   "cell_type": "code",
   "execution_count": 30,
   "id": "3c31307e",
   "metadata": {},
   "outputs": [
    {
     "data": {
      "image/png": "[encoded data removed]",
      "text/plain": [
       "<Figure size 640x480 with 2 Axes>"
      ]
     },
     "metadata": {},
     "output_type": "display_data"
    },
    {
     "name": "stdout",
     "output_type": "stream",
     "text": [
      "Accuracy on the test set:  0.8946474086661003\n"
     ]
    }
   ],
   "source": [
    "# storing accuracy score:\n",
    "acc_sco = accuracy_score(Y_test, model.predict(X_test)) \n",
    "\n",
    "# construction confusion matrix\n",
    "cm = conf_mat(model, Y_test)\n",
    "\n",
    "# store model results in tuned_models dictionary\n",
    "\n",
    "print('Accuracy on the test set: ', acc_sco)\n",
    "tuned_models['Random_Forest'] = {'accuracy': acc_sco, 'model': model, 'confusion_matrix': cm}"
   ]
  },
  {
   "cell_type": "markdown",
   "id": "a2a470cb",
   "metadata": {},
   "source": [
    "## Decision Tree Classifier\n",
    "\n",
    "A decision tree classifier."
   ]
  },
  {
   "cell_type": "code",
   "execution_count": null,
   "id": "ac988d88",
   "metadata": {},
   "outputs": [],
   "source": [
    "# starting the timer to see how much time it takes\n",
    "start_time = time.time()\n",
    "\n",
    "# Let's define the model\n",
    "pipeline = Pipeline([\n",
    "    ('preprocessor', preprocessor),\n",
    "    ('Imputer', KNNImputer()),\n",
    "    ('selector', SelectKBest()),\n",
    "    ('model', DecisionTreeClassifier(random_state=2023))\n",
    "])\n",
    "\n",
    "\n",
    "# Define the parameter grid\n",
    "param_grid = {\n",
    "    'selector__k': [3, 4, 5, 10, 15, 30],\n",
    "    'model__criterion': ['entropy'],\n",
    "    'model__max_depth': [2, 4, 6, 8, 10],\n",
    "    'model__min_samples_split': [2, 4, 6, 8],\n",
    "    'model__min_samples_leaf': [1, 2, 4, 8],\n",
    "    'model__max_features': ['sqrt']\n",
    "}\n",
    "\n",
    "# create the grid search object\n",
    "grid_search = GridSearchCV(pipeline, param_grid=param_grid, cv=5, verbose=2, n_jobs=3)\n",
    "\n",
    "# fit the grid search object to the data\n",
    "grid_search.fit(X_train, Y_train)\n",
    "\n",
    "# evaluate the best model on the test set\n",
    "score = grid_search.score(X_test, Y_test)\n",
    "\n",
    "# stopping the timer and seeing the result: ------------------------\n",
    "end_time = time.time()\n",
    "\n",
    "print('Accuracy on the test set: ', score)\n",
    "print('\\nBest parameters after the grid search: ', grid_search.best_params_)\n",
    "print(\"\\nTime taken for model to learn: \", end_time - start_time, \" seconds\")"
   ]
  },
  {
   "cell_type": "code",
   "execution_count": null,
   "id": "b11c92f9",
   "metadata": {},
   "outputs": [],
   "source": [
    "# save the model to disk using pickle\n",
    "if input('Are you sure you want to run this cell? It will overwrite current best model. Y/N: ') == 'Y':\n",
    "    with open('trained_models/best_decision_tree_model.pkl', 'wb') as f:\n",
    "        pickle.dump(grid_search, f)"
   ]
  },
  {
   "cell_type": "code",
   "execution_count": null,
   "id": "59407bc7",
   "metadata": {
    "scrolled": true
   },
   "outputs": [],
   "source": [
    "# load the best model from disk using pickle\n",
    "with open('trained_models/best_decision_tree_model.pkl', 'rb') as f:\n",
    "    model = pickle.load(f)\n",
    " \n",
    "print('Best parameters after the grid search: ', model.best_params_)"
   ]
  },
  {
   "cell_type": "code",
   "execution_count": null,
   "id": "2c61c5fd",
   "metadata": {},
   "outputs": [],
   "source": [
    "# Get the selected feature indices after SelectKBest() in the best estimator\n",
    "selected_feature_indices = model.best_estimator_.named_steps['selector'].get_support(indices=True)\n",
    "\n",
    "# Get the column names of the selected features\n",
    "selected_feature_names = preprocessor.get_feature_names_out()[selected_feature_indices]\n",
    "print('Columns after feature selection: ', selected_feature_names)"
   ]
  },
  {
   "cell_type": "code",
   "execution_count": null,
   "id": "c6158544",
   "metadata": {},
   "outputs": [],
   "source": [
    "# storing accuracy score:\n",
    "acc_sco = accuracy_score(Y_test, model.predict(X_test)) \n",
    "\n",
    "# construction confusion matrix\n",
    "cm = conf_mat(model, Y_test)\n",
    "\n",
    "# store model results in tuned_models dictionary\n",
    "\n",
    "print('Accuracy on the test set: ',acc_sco)\n",
    "tuned_models['Decision_Tree'] = {'accuracy': acc_sco, 'model': model, 'confusion_matrix': cm}"
   ]
  },
  {
   "cell_type": "markdown",
   "id": "618658fb",
   "metadata": {},
   "source": [
    "## Stochastic Gradient Descent (SGD) Classifier\n",
    "\n",
    "A linear classifier with SGD training. Default implementation uses the loss='hinge' used for linear SVM"
   ]
  },
  {
   "cell_type": "code",
   "execution_count": null,
   "id": "010cc4ba",
   "metadata": {},
   "outputs": [],
   "source": [
    "# starting the timer to see how much time it takes\n",
    "start_time = time.time()\n",
    "\n",
    "# Let's define the model\n",
    "pipeline = Pipeline([\n",
    "    ('preprocessor', preprocessor),\n",
    "    ('imputer', KNNImputer()),\n",
    "    ('selector', SelectKBest()),\n",
    "    ('model', SGDClassifier(random_state=2023))\n",
    "])\n",
    "\n",
    "\n",
    "# Define the parameter grid\n",
    "param_grid = {\n",
    "    'selector__k': [30, 50, 70, 80, 90],\n",
    "    'model__alpha': [1, 0.1, 0.01],\n",
    "    'model__penalty': ['l1','l2', 'elasticnet'],\n",
    "    'model__max_iter': [200, 500],\n",
    "    'model__tol': [0.01, 0.001]\n",
    "}\n",
    "# create the grid search object\n",
    "grid_search = GridSearchCV(pipeline, param_grid=param_grid, cv=5, verbose=2, n_jobs=3)\n",
    "\n",
    "# fit the grid search object to the data\n",
    "grid_search.fit(X_train, Y_train)\n",
    "\n",
    "# evaluate the best model on the test set\n",
    "score = grid_search.score(X_test, Y_test)\n",
    "\n",
    "# stopping the timer and seeing the result: ------------------------\n",
    "end_time = time.time()\n",
    "\n",
    "print('Accuracy on the test set: ', score)\n",
    "print('\\nBest parameters after the grid search: ', grid_search.best_params_)\n",
    "print(\"\\nTime taken for model to learn: \", end_time - start_time, \" seconds\")"
   ]
  },
  {
   "cell_type": "code",
   "execution_count": null,
   "id": "ac519529",
   "metadata": {},
   "outputs": [],
   "source": [
    "# save the model to disk using pickle\n",
    "if input('Are you sure you want to run this cell? It will overwrite current best model. Y/N: ') == 'Y':\n",
    "    with open('trained_models/best_SGDClassfier_model.pkl', 'wb') as f:\n",
    "        pickle.dump(grid_search, f)"
   ]
  },
  {
   "cell_type": "code",
   "execution_count": null,
   "id": "c7007ad3",
   "metadata": {},
   "outputs": [],
   "source": [
    "# load the best model from disk using pickle\n",
    "with open('trained_models/best_SGDClassfier_model.pkl', 'rb') as f:\n",
    "    model = pickle.load(f)\n",
    " \n",
    "print('Best parameters after the grid search: ', model.best_params_)"
   ]
  },
  {
   "cell_type": "code",
   "execution_count": null,
   "id": "65087ce1",
   "metadata": {
    "scrolled": true
   },
   "outputs": [],
   "source": [
    "# Get the selected feature indices after SelectKBest() in the best estimator\n",
    "selected_feature_indices = model.best_estimator_.named_steps['selector'].get_support(indices=True)\n",
    "\n",
    "# Get the column names of the selected features\n",
    "selected_feature_names = preprocessor.get_feature_names_out()[selected_feature_indices]\n",
    "print('Columns after feature selection: ', selected_feature_names)"
   ]
  },
  {
   "cell_type": "code",
   "execution_count": null,
   "id": "7db22164",
   "metadata": {},
   "outputs": [],
   "source": [
    "# storing accuracy score:\n",
    "acc_sco = accuracy_score(Y_test, model.predict(X_test)) \n",
    "\n",
    "# construction confusion matrix\n",
    "cm = conf_mat(model, Y_test)\n",
    "\n",
    "# store model results in tuned_models dictionary\n",
    "\n",
    "print('Accuracy on the test set: ',acc_sco)\n",
    "tuned_models['SGDClassfier'] = {'accuracy': acc_sco, 'model': model, 'confusion_matrix': cm}"
   ]
  },
  {
   "cell_type": "markdown",
   "id": "609c8a93",
   "metadata": {},
   "source": [
    "## Linear SVC\n",
    "\n",
    "Linear Support Vector Classification."
   ]
  },
  {
   "cell_type": "code",
   "execution_count": null,
   "id": "25ad8ad7",
   "metadata": {
    "scrolled": true
   },
   "outputs": [],
   "source": [
    "# starting the timer to see how much time it takes\n",
    "start_time = time.time()\n",
    "\n",
    "# Let's define the model\n",
    "pipeline = Pipeline([\n",
    "    ('preprocessor', preprocessor),\n",
    "    ('imputer', KNNImputer()),\n",
    "    #('selector', SelectKBest()),\n",
    "    ('model', LinearSVC(random_state=2023))\n",
    "])\n",
    "\n",
    "\n",
    "# Define the parameter grid\n",
    "param_grid = {\n",
    "    #'selector__k': [40, 60, 70, 80],\n",
    "    'model__loss': ['hinge'],\n",
    "    'model__C': [0.001],\n",
    "    'model__penalty': ['l2'],\n",
    "    'model__max_iter': [100],\n",
    "    'model__tol': [0.001]\n",
    "}\n",
    "# create the grid search object\n",
    "grid_search = GridSearchCV(pipeline, param_grid=param_grid, cv=5, verbose=2, n_jobs=3)\n",
    "\n",
    "# fit the grid search object to the data\n",
    "grid_search.fit(X_train, Y_train)\n",
    "\n",
    "# evaluate the best model on the test set\n",
    "score = grid_search.score(X_test, Y_test)\n",
    "\n",
    "# stopping the timer and seeing the result: ------------------------\n",
    "end_time = time.time()\n",
    "\n",
    "print('Accuracy on the test set: ', score)\n",
    "print('\\nBest parameters after the grid search: ', grid_search.best_params_)\n",
    "print(\"\\nTime taken for model to learn: \", end_time - start_time, \" seconds\")"
   ]
  },
  {
   "cell_type": "code",
   "execution_count": null,
   "id": "f71ab1e1",
   "metadata": {},
   "outputs": [],
   "source": [
    "# save the model to disk using pickle\n",
    "if input('Are you sure you want to run this cell? It will overwrite current best model. Y/N: ') == 'Y':\n",
    "    with open('trained_models/best_LinearSVC_model.pkl', 'wb') as f:\n",
    "        pickle.dump(grid_search, f)"
   ]
  },
  {
   "cell_type": "code",
   "execution_count": null,
   "id": "671309ec",
   "metadata": {},
   "outputs": [],
   "source": [
    "# load the best model from disk using pickle\n",
    "with open('trained_models/best_LinearSVC_model.pkl', 'rb') as f:\n",
    "    model = pickle.load(f)\n",
    " \n",
    "print('Best parameters after the grid search: ', model.best_params_)"
   ]
  },
  {
   "cell_type": "code",
   "execution_count": null,
   "id": "55fd84ea",
   "metadata": {},
   "outputs": [],
   "source": [
    "# Get the selected feature indices after SelectKBest() in the best estimator\n",
    "selected_feature_indices = model.best_estimator_.named_steps['selector'].get_support(indices=True)\n",
    "\n",
    "# Get the column names of the selected features\n",
    "selected_feature_names = preprocessor.get_feature_names_out()[selected_feature_indices]\n",
    "print('Columns after feature selection: ', selected_feature_names)"
   ]
  },
  {
   "cell_type": "code",
   "execution_count": null,
   "id": "678d7fab",
   "metadata": {},
   "outputs": [],
   "source": [
    "# storing accuracy score:\n",
    "acc_sco = accuracy_score(Y_test, model.predict(X_test)) \n",
    "\n",
    "# construction confusion matrix\n",
    "cm = conf_mat(model, Y_test)\n",
    "\n",
    "# store model results in tuned_models dictionary\n",
    "\n",
    "print('Accuracy on the test set: ',acc_sco)\n",
    "tuned_models['LinearSVC'] = {'accuracy': acc_sco, 'model': model, 'confusion_matrix': cm}"
   ]
  },
  {
   "cell_type": "markdown",
   "id": "f45dac8f",
   "metadata": {},
   "source": [
    "## Gaussian Naive Bayes\n",
    "\n",
    "Gaussian Naive Bayes (GaussianNB)"
   ]
  },
  {
   "cell_type": "code",
   "execution_count": null,
   "id": "5dca09b8",
   "metadata": {},
   "outputs": [],
   "source": [
    "# starting the timer to see how much time it takes\n",
    "start_time = time.time()\n",
    "\n",
    "# Let's define the model\n",
    "pipeline = Pipeline([\n",
    "    ('preprocessor', preprocessor),\n",
    "    ('imputer', KNNImputer()),\n",
    "    ('selector', SelectKBest()),\n",
    "    ('model', GaussianNB())\n",
    "])\n",
    "\n",
    "\n",
    "# Define the parameter grid\n",
    "param_grid = {\n",
    "    'selector__k': [1, 2, 3, 4, 5, 10, 20, 30, 40, 50, 60, 70, 80, 90, 220],\n",
    "}\n",
    "# create the grid search object\n",
    "grid_search = GridSearchCV(pipeline, param_grid=param_grid, cv=5, verbose=2, n_jobs=-1)\n",
    "\n",
    "# fit the grid search object to the data\n",
    "grid_search.fit(X_train, Y_train)\n",
    "\n",
    "# evaluate the best model on the test set\n",
    "score = grid_search.score(X_test, Y_test)\n",
    "\n",
    "# stopping the timer and seeing the result: ------------------------\n",
    "end_time = time.time()\n",
    "\n",
    "print('Accuracy on the test set: ', score)\n",
    "print('\\nBest parameters after the grid search: ', grid_search.best_params_)\n",
    "print(\"\\nTime taken for model to learn: \", end_time - start_time, \" seconds\")"
   ]
  },
  {
   "cell_type": "code",
   "execution_count": null,
   "id": "d132e36b",
   "metadata": {},
   "outputs": [],
   "source": [
    "# save the model to disk using pickle\n",
    "if input('Are you sure you want to run this cell? It will overwrite current best model. Y/N: ') == 'Y':\n",
    "    with open('trained_models/best_GaussianNB_model.pkl', 'wb') as f:\n",
    "        pickle.dump(grid_search, f)"
   ]
  },
  {
   "cell_type": "code",
   "execution_count": null,
   "id": "34b8a48b",
   "metadata": {},
   "outputs": [],
   "source": [
    "# load the best model from disk using pickle\n",
    "with open('trained_models/best_GaussianNB_model.pkl', 'rb') as f:\n",
    "    model = pickle.load(f)\n",
    " \n",
    "print('Best parameters after the grid search: ', model.best_params_)"
   ]
  },
  {
   "cell_type": "code",
   "execution_count": null,
   "id": "3a5a7b42",
   "metadata": {
    "scrolled": true
   },
   "outputs": [],
   "source": [
    "# Get the selected feature indices after SelectKBest() in the best estimator\n",
    "selected_feature_indices = model.best_estimator_.named_steps['selector'].get_support(indices=True)\n",
    "\n",
    "# Get the column names of the selected features\n",
    "selected_feature_names = preprocessor.get_feature_names_out()[selected_feature_indices]\n",
    "print('Columns after feature selection: ', selected_feature_names)"
   ]
  },
  {
   "cell_type": "code",
   "execution_count": null,
   "id": "abef32d5",
   "metadata": {},
   "outputs": [],
   "source": [
    "# storing accuracy score:\n",
    "acc_sco = accuracy_score(Y_test, model.predict(X_test)) \n",
    "\n",
    "# construction confusion matrix\n",
    "cm = conf_mat(model, Y_test)\n",
    "\n",
    "# store model results in tuned_models dictionary\n",
    "\n",
    "print('Accuracy on the test set: ',acc_sco)\n",
    "tuned_models['Gaussian_NB'] = {'accuracy': acc_sco, 'model': model, 'confusion_matrix': cm}"
   ]
  },
  {
   "cell_type": "markdown",
   "id": "437eed00",
   "metadata": {},
   "source": [
    "## KNN\n",
    "\n",
    "Classifier implementing the k-nearest neighbors vote."
   ]
  },
  {
   "cell_type": "code",
   "execution_count": null,
   "id": "2eaf509f",
   "metadata": {},
   "outputs": [],
   "source": [
    "# starting the timer to see how much time it takes\n",
    "start_time = time.time()\n",
    "\n",
    "# Let's define the model\n",
    "pipeline = Pipeline([\n",
    "    ('preprocessor', preprocessor),\n",
    "    ('imputer', KNNImputer()),\n",
    "    #('selector', SelectKBest()),\n",
    "    ('model', KNeighborsClassifier())\n",
    "])\n",
    "\n",
    "\n",
    "# Define the parameter grid\n",
    "param_grid = {\n",
    "    #'selector__k': [5, 10, 20, 40, 60],\n",
    "    'model__n_neighbors': [3, 5, 7, 9, 11, 13, 15],\n",
    "    'model__weights': ['uniform', 'distance'],\n",
    "    'model__metric': ['euclidean', 'manhattan', 'minkowski']\n",
    "}\n",
    "# create the grid search object\n",
    "grid_search = GridSearchCV(pipeline, param_grid=param_grid, cv=5, verbose=2, n_jobs=-1)\n",
    "\n",
    "# fit the grid search object to the data\n",
    "grid_search.fit(X_train, Y_train)\n",
    "\n",
    "# evaluate the best model on the test set\n",
    "score = grid_search.score(X_test, Y_test)\n",
    "\n",
    "# stopping the timer and seeing the result: ------------------------\n",
    "end_time = time.time()\n",
    "\n",
    "print('Accuracy on the test set: ', score)\n",
    "print('\\nBest parameters after the grid search: ', grid_search.best_params_)\n",
    "print(\"\\nTime taken for model to learn: \", end_time - start_time, \" seconds\")"
   ]
  },
  {
   "cell_type": "code",
   "execution_count": null,
   "id": "4e45a040",
   "metadata": {},
   "outputs": [],
   "source": [
    "# save the model to disk using pickle\n",
    "if input('Are you sure you want to run this cell? It will overwrite current best model. Y/N: ') == 'Y':\n",
    "    with open('trained_models/best_KNN_model.pkl', 'wb') as f:\n",
    "        pickle.dump(grid_search, f)"
   ]
  },
  {
   "cell_type": "code",
   "execution_count": null,
   "id": "9d444799",
   "metadata": {},
   "outputs": [],
   "source": [
    "# load the best model from disk using pickle\n",
    "with open('trained_models/best_KNN_model.pkl', 'rb') as f:\n",
    "    model = pickle.load(f)\n",
    " \n",
    "print('Best parameters after the grid search: ', model.best_params_)"
   ]
  },
  {
   "cell_type": "code",
   "execution_count": null,
   "id": "05280429",
   "metadata": {},
   "outputs": [],
   "source": [
    "# Get the selected feature indices after SelectKBest() in the best estimator\n",
    "selected_feature_indices = model.best_estimator_.named_steps['selector'].get_support(indices=True)\n",
    "\n",
    "# Get the column names of the selected features\n",
    "selected_feature_names = preprocessor.get_feature_names_out()[selected_feature_indices]\n",
    "print('Columns after feature selection: ', selected_feature_names)"
   ]
  },
  {
   "cell_type": "code",
   "execution_count": null,
   "id": "be4fffa5",
   "metadata": {},
   "outputs": [],
   "source": [
    "# storing accuracy score:\n",
    "acc_sco = accuracy_score(Y_test, model.predict(X_test)) \n",
    "\n",
    "# construction confusion matrix\n",
    "cm = conf_mat(model, Y_test)\n",
    "\n",
    "# store model results in tuned_models dictionary\n",
    "\n",
    "print('Accuracy on the test set: ',acc_sco)\n",
    "tuned_models['KNN'] = {'accuracy': acc_sco, 'model': model, 'confusion_matrix': cm}"
   ]
  },
  {
   "cell_type": "markdown",
   "id": "fa573a2b",
   "metadata": {},
   "source": [
    "## Logistic Regression\n",
    "\n",
    "Logistic Regression (aka logit, MaxEnt) classifier.\n"
   ]
  },
  {
   "cell_type": "code",
   "execution_count": null,
   "id": "b74a8b57",
   "metadata": {},
   "outputs": [],
   "source": [
    "# starting the timer to see how much time it takes\n",
    "start_time = time.time()\n",
    "\n",
    "# Let's define the model\n",
    "pipeline = Pipeline([\n",
    "    ('preprocessor', preprocessor),\n",
    "    ('imputer', KNNImputer()),\n",
    "    #('selector', SelectKBest()),\n",
    "    ('model', LogisticRegression(random_state=2023))\n",
    "])\n",
    "\n",
    "\n",
    "# Define the parameter grid\n",
    "param_grid = {\n",
    "    #'selector__k': [5, 10, 20, 40, 60],\n",
    "    'model__penalty': ['l2'],\n",
    "    'model__C': [0.001, 0.01, 0.1, 1.0],\n",
    "    'model__solver': ['newton-cg', 'lbfgs', 'sag', 'saga'],\n",
    "    'model__max_iter': [50, 100, 150, 200, 300],\n",
    "    'model__tol': [0.01, 0.001, 0.0001, 0.00001]\n",
    "}\n",
    "# create the grid search object\n",
    "grid_search = GridSearchCV(pipeline, param_grid=param_grid, cv=5, verbose=2, n_jobs=3)\n",
    "\n",
    "# fit the grid search object to the data\n",
    "grid_search.fit(X_train, Y_train)\n",
    "\n",
    "# evaluate the best model on the test set\n",
    "score = grid_search.score(X_test, Y_test)\n",
    "\n",
    "# stopping the timer and seeing the result: ------------------------\n",
    "end_time = time.time()\n",
    "\n",
    "print('Accuracy on the test set: ', score)\n",
    "print('\\nBest parameters after the grid search: ', grid_search.best_params_)\n",
    "print(\"\\nTime taken for model to learn: \", end_time - start_time, \" seconds\")"
   ]
  },
  {
   "cell_type": "code",
   "execution_count": null,
   "id": "a3ba366b",
   "metadata": {},
   "outputs": [],
   "source": [
    "# save the model to disk using pickle\n",
    "if input('Are you sure you want to run this cell? It will overwrite current best model. Y/N: ') == 'Y':\n",
    "    with open('trained_models/best_logistic_regression.pkl', 'wb') as f:\n",
    "        pickle.dump(grid_search, f)"
   ]
  },
  {
   "cell_type": "code",
   "execution_count": null,
   "id": "a2a13097",
   "metadata": {},
   "outputs": [],
   "source": [
    "# load the best model from disk using pickle\n",
    "with open('trained_models/best_logistic_regression.pkl', 'rb') as f:\n",
    "    model = pickle.load(f)\n",
    " \n",
    "print('Best parameters after the grid search: ', model.best_params_)"
   ]
  },
  {
   "cell_type": "code",
   "execution_count": null,
   "id": "6544030a",
   "metadata": {},
   "outputs": [],
   "source": [
    "# Get the selected feature indices after SelectKBest() in the best estimator\n",
    "selected_feature_indices = model.best_estimator_.named_steps['selector'].get_support(indices=True)\n",
    "\n",
    "# Get the column names of the selected features\n",
    "selected_feature_names = preprocessor.get_feature_names_out()[selected_feature_indices]\n",
    "print('Columns after feature selection: ', selected_feature_names)"
   ]
  },
  {
   "cell_type": "code",
   "execution_count": null,
   "id": "97adb1f4",
   "metadata": {},
   "outputs": [],
   "source": [
    "# storing accuracy score:\n",
    "acc_sco = accuracy_score(Y_test, model.predict(X_test)) \n",
    "\n",
    "# construction confusion matrix\n",
    "cm = conf_mat(model, Y_test)\n",
    "\n",
    "# store model results in tuned_models dictionary\n",
    "\n",
    "print('Accuracy on the test set: ',acc_sco)\n",
    "tuned_models['Logistic_Regression'] = {'accuracy': acc_sco, 'model': model, 'confusion_matrix': cm}"
   ]
  },
  {
   "cell_type": "markdown",
   "id": "3243ead1",
   "metadata": {},
   "source": [
    "# FINAL TUNEL MODELS COMPARISON\n",
    "\n",
    "Here we assess the performance of each model\n"
   ]
  },
  {
   "cell_type": "code",
   "execution_count": null,
   "id": "a8221224",
   "metadata": {},
   "outputs": [],
   "source": [
    "plot_models_acc(tuned_models, naive_classifier)"
   ]
  },
  {
   "cell_type": "markdown",
   "id": "65385da5",
   "metadata": {},
   "source": [
    "# NOTES\n",
    "\n",
    "If the odds are available before the fight, then there is nothing inherently wrong with using them as a predictor. However, it's important to keep in mind that any information used for prediction should be available at the time the prediction is made. If the model is trained on data that includes information (such as odds) that would not be available at the time of prediction, then the model may overfit to the training data and perform poorly on new, unseen data.\n",
    "\n",
    "Additionally, it's important to consider the ethics of using betting odds for predictive modeling. While it may be legal to use this information for research purposes, it could be seen as promoting gambling or taking advantage of vulnerable populations. It's important to approach this type of research with sensitivity and to consider the potential impacts of the research on society."
   ]
  }
 ],
 "metadata": {
  "kernelspec": {
   "display_name": "Python 3 (ipykernel)",
   "language": "python",
   "name": "python3"
  },
  "language_info": {
   "codemirror_mode": {
    "name": "ipython",
    "version": 3
   },
   "file_extension": ".py",
   "mimetype": "text/x-python",
   "name": "python",
   "nbconvert_exporter": "python",
   "pygments_lexer": "ipython3",
   "version": "3.8.2"
  }
 },
 "nbformat": 4,
 "nbformat_minor": 5
}
