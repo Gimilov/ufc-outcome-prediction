{
 "cells": [
  {
   "cell_type": "markdown",
   "id": "e913f1bf",
   "metadata": {},
   "source": [
    " <span style=\"color: purple; font-weight: bold; font-size:26px\"> Check if any models performs better than the naive classifier </span>\n",
    "\n",
    "\n",
    "Let's start by importing some libs"
   ]
  },
  {
   "cell_type": "code",
   "execution_count": 1,
   "id": "b72e7668",
   "metadata": {},
   "outputs": [],
   "source": [
    "# data analysis\n",
    "import pandas as pd\n",
    "import numpy as np\n",
    "import random\n",
    "\n",
    "# visualisations\n",
    "import seaborn \n",
    "import matplotlib.pyplot as plt\n",
    "%matplotlib inline\n",
    "\n",
    "# models\n",
    "from sklearn.linear_model import LogisticRegression\n",
    "from sklearn.svm import SVC, LinearSVC\n",
    "from sklearn.ensemble import RandomForestClassifier\n",
    "from sklearn.neighbors import KNeighborsClassifier\n",
    "from sklearn.naive_bayes import GaussianNB\n",
    "from sklearn.linear_model import Perceptron\n",
    "from sklearn.linear_model import SGDClassifier\n",
    "from sklearn.tree import DecisionTreeClassifier\n",
    "from sklearn.metrics import accuracy_score, classification_report,confusion_matrix, roc_auc_score\n",
    "from sklearn.calibration import CalibratedClassifierCV\n",
    "import pickle # for saving the model\n",
    "\n",
    "# preprocesing\n",
    "from sklearn.pipeline import Pipeline\n",
    "from sklearn.preprocessing import StandardScaler, OneHotEncoder, FunctionTransformer\n",
    "from sklearn.compose import ColumnTransformer\n",
    "from sklearn.model_selection import train_test_split, GridSearchCV\n",
    "from sklearn.feature_selection import SelectKBest\n",
    "from sklearn.impute import KNNImputer\n",
    "\n",
    "# just out of curiosity\n",
    "import time\n"
   ]
  },
  {
   "cell_type": "markdown",
   "id": "52001656",
   "metadata": {},
   "source": [
    "Now, let's define some helper functions!\n"
   ]
  },
  {
   "cell_type": "code",
   "execution_count": 2,
   "id": "b9265a6a",
   "metadata": {},
   "outputs": [],
   "source": [
    "# let's define some helper functions:\n",
    "\n",
    "def plot_models_acc(dict, naive_classifier):\n",
    "    labels = tuple(dict.keys())\n",
    "    y_pos = np.arange(len(labels))\n",
    "    values = [dict[n]['accuracy'] for n in dict]\n",
    "    fig, ax = plt.subplots()\n",
    "    bars = ax.bar(y_pos, values, align='center', alpha=0.5)\n",
    "    ax.set_xticks(y_pos)\n",
    "    ax.set_xticklabels(labels,rotation='vertical')\n",
    "    ax.set_ylabel('accuracy')\n",
    "    ax.set_title('Accuracy of different models')\n",
    "    # add a horizontal line at naive_classfier\n",
    "    ax.axhline(y=naive_classifier, color='r', linestyle='-', label='Naive Classifier')\n",
    "    ax.legend(loc='lower right')\n",
    "\n",
    "    # Add percentage labels to the bars\n",
    "    for bar, value in zip(bars, values):\n",
    "        ax.text(bar.get_x() + bar.get_width() / 2, value + 0.01, f'{value:.0%}', ha='center', va='bottom')\n",
    "\n",
    "    # Add percentage label to the line\n",
    "    ax.text(-0.1, naive_classifier + 0.01, f'{naive_classifier:.0%}', ha='right', va='bottom', color='r')\n",
    "\n",
    "    plt.ylim((.40, .75))\n",
    "    plt.show()\n",
    "    \n",
    "# checking the distribution of the features :)\n",
    "def feature_dist(dataframe):\n",
    "    col_num = len(dataframe.columns)\n",
    "    from_to_ind = [(i, i+6) for i in range(0, col_num, 6)]\n",
    "\n",
    "    for i, j in from_to_ind:\n",
    "        if j >= col_num:\n",
    "            if col_num - 1 == i:\n",
    "                dataframe.iloc[:, i].hist(figsize=(11,11))\n",
    "            else:\n",
    "                dataframe.iloc[:, i:col_num-1].hist(layout=(1,col_num - 1 - i), figsize=(11,11))\n",
    "        else:\n",
    "            dataframe.iloc[:, i:j].hist(layout=(2,3), figsize=(11,11))\n",
    "            \n",
    "            \n",
    "def conf_mat(grid_search: GridSearchCV, Y_test):\n",
    "    # construction confusion matrix\n",
    "    outcome_class_labels = ['Red', 'Draw', 'No contest', 'Blue']\n",
    "    cm = confusion_matrix(\n",
    "        Y_test, \n",
    "        grid_search.predict(X_test),\n",
    "        labels = outcome_class_labels\n",
    "    )\n",
    "\n",
    "    # create heatmap\n",
    "    seaborn.heatmap(\n",
    "        cm, \n",
    "        annot=True, \n",
    "        cmap='Blues', \n",
    "        xticklabels=outcome_class_labels,\n",
    "        yticklabels=outcome_class_labels,\n",
    "        fmt='d')\n",
    "    \n",
    "    # add labels\n",
    "    plt.xlabel('Predicted')\n",
    "    plt.ylabel('True')\n",
    "    plt.show()\n",
    "    \n",
    "    # print classification_report:\n",
    "    print(classification_report(\n",
    "        Y_test, \n",
    "        grid_search.predict(X_test), \n",
    "        target_names=outcome_class_labels,\n",
    "        labels=outcome_class_labels,\n",
    "        digits=4))\n",
    "\n",
    "    return cm"
   ]
  },
  {
   "cell_type": "markdown",
   "id": "d8b51020",
   "metadata": {},
   "source": [
    "### Importing data\n",
    "Now, let's import the data.\n",
    "\n",
    "The data is a result of a web-scraping script written in Python that visits websites like ufcstats.com and bestfightodds.com in order to gather, store and compute fighting statistics and odds. Our initial time period ranges from 2023 (most recent fights) to as far as 1994, but we have decided to skip the oldest 2400 fights. \n",
    "\n",
    "There are several reasons on why we skipped it. First and foremost, most of the oldest data has every winner labeled as 'Red' what would lead to the biased results of our model. Secondly, a lot of data was missing, especially data about the odds. Finally, fighting formulas have changed over time, therefore we would rather not to base our models on the 'outdated' information, so to speak.\n",
    "\n",
    "Furthermore, let us mention that even in the selected time frame there are some missingness of the odds data that the scraper was unable to gather. Most of the times, it was because of the inconsistencies in the naming of fighters from the bestfightodds.com side. For example, one fighter could have 3 or 4 different pages simply because there were typos in names. To handle that, we manually mapped these odds into our datasets. In the main Excel file one may go and see the green-marked cells signifying the manual intervention. \n"
   ]
  },
  {
   "cell_type": "code",
   "execution_count": 3,
   "id": "f8385526",
   "metadata": {},
   "outputs": [],
   "source": [
    "data = pd.read_excel('./UFCdata/datasets/UFC_fights_stats_complete.xlsx')\n",
    "data = data.sort_values('Event_Date', ascending=True).reset_index(drop=True)\n",
    "data = data.replace(['--', '---'], pd.NA)[2400:] "
   ]
  },
  {
   "cell_type": "code",
   "execution_count": 4,
   "id": "deec5a19",
   "metadata": {},
   "outputs": [
    {
     "name": "stdout",
     "output_type": "stream",
     "text": [
      "<class 'pandas.core.frame.DataFrame'>\n",
      "RangeIndex: 4708 entries, 2400 to 7107\n",
      "Columns: 224 entries, Unnamed: 0.1 to B_Closing_Odds\n",
      "dtypes: bool(1), datetime64[ns](1), float64(138), int64(72), object(12)\n",
      "memory usage: 8.0+ MB\n"
     ]
    }
   ],
   "source": [
    "data.info()"
   ]
  },
  {
   "cell_type": "code",
   "execution_count": 5,
   "id": "6dc83d45",
   "metadata": {
    "scrolled": true
   },
   "outputs": [
    {
     "data": {
      "text/html": [
       "<div>\n",
       "<style scoped>\n",
       "    .dataframe tbody tr th:only-of-type {\n",
       "        vertical-align: middle;\n",
       "    }\n",
       "\n",
       "    .dataframe tbody tr th {\n",
       "        vertical-align: top;\n",
       "    }\n",
       "\n",
       "    .dataframe thead th {\n",
       "        text-align: right;\n",
       "    }\n",
       "</style>\n",
       "<table border=\"1\" class=\"dataframe\">\n",
       "  <thead>\n",
       "    <tr style=\"text-align: right;\">\n",
       "      <th></th>\n",
       "      <th>Unnamed: 0.1</th>\n",
       "      <th>Unnamed: 0</th>\n",
       "      <th>R_Height_cm</th>\n",
       "      <th>R_Weight_kg</th>\n",
       "      <th>R_Reach</th>\n",
       "      <th>R_Age</th>\n",
       "      <th>R_Total_Knockdowns</th>\n",
       "      <th>R_Total_Significant_Strikes_Attempted</th>\n",
       "      <th>R_Total_Significant_Strikes_Landed</th>\n",
       "      <th>R_Significant_Strikes_%_Landed</th>\n",
       "      <th>...</th>\n",
       "      <th>B_Opp_Significant_Strikes_in_Clinch_%_Landed</th>\n",
       "      <th>B_Opp_Average_Significant_Strikes_on_Ground_Attempted</th>\n",
       "      <th>B_Opp_Average_Significant_Strikes_on_Ground_Landed</th>\n",
       "      <th>B_Opp_Significant_Strikes_on_Ground_%_Landed</th>\n",
       "      <th>Number_of_Rounds</th>\n",
       "      <th>Last_Round_Duration</th>\n",
       "      <th>R_Open_Odds</th>\n",
       "      <th>B_Open_Odds</th>\n",
       "      <th>R_Closing_Odds</th>\n",
       "      <th>B_Closing_Odds</th>\n",
       "    </tr>\n",
       "  </thead>\n",
       "  <tbody>\n",
       "    <tr>\n",
       "      <th>count</th>\n",
       "      <td>4708.000000</td>\n",
       "      <td>4708.000000</td>\n",
       "      <td>4708.000000</td>\n",
       "      <td>4708.000000</td>\n",
       "      <td>4624.000000</td>\n",
       "      <td>4708.000000</td>\n",
       "      <td>4708.000000</td>\n",
       "      <td>4708.000000</td>\n",
       "      <td>4708.000000</td>\n",
       "      <td>4708.000000</td>\n",
       "      <td>...</td>\n",
       "      <td>4708.000000</td>\n",
       "      <td>4708.00000</td>\n",
       "      <td>4708.000000</td>\n",
       "      <td>4708.000000</td>\n",
       "      <td>4708.000000</td>\n",
       "      <td>4708.000000</td>\n",
       "      <td>4708.000000</td>\n",
       "      <td>4708.000000</td>\n",
       "      <td>4708.000000</td>\n",
       "      <td>4708.000000</td>\n",
       "    </tr>\n",
       "    <tr>\n",
       "      <th>mean</th>\n",
       "      <td>3612.097281</td>\n",
       "      <td>3612.097281</td>\n",
       "      <td>177.486007</td>\n",
       "      <td>73.803455</td>\n",
       "      <td>182.092842</td>\n",
       "      <td>30.937128</td>\n",
       "      <td>1.967502</td>\n",
       "      <td>631.524851</td>\n",
       "      <td>279.340272</td>\n",
       "      <td>0.422360</td>\n",
       "      <td>...</td>\n",
       "      <td>0.522387</td>\n",
       "      <td>5.16545</td>\n",
       "      <td>3.596194</td>\n",
       "      <td>0.505321</td>\n",
       "      <td>2.429269</td>\n",
       "      <td>230.601742</td>\n",
       "      <td>-114.771453</td>\n",
       "      <td>37.722175</td>\n",
       "      <td>-137.179269</td>\n",
       "      <td>39.881903</td>\n",
       "    </tr>\n",
       "    <tr>\n",
       "      <th>std</th>\n",
       "      <td>2022.513871</td>\n",
       "      <td>2022.513871</td>\n",
       "      <td>9.244279</td>\n",
       "      <td>16.029015</td>\n",
       "      <td>11.308305</td>\n",
       "      <td>4.246129</td>\n",
       "      <td>2.727167</td>\n",
       "      <td>668.628788</td>\n",
       "      <td>291.850253</td>\n",
       "      <td>0.152530</td>\n",
       "      <td>...</td>\n",
       "      <td>0.320886</td>\n",
       "      <td>7.77080</td>\n",
       "      <td>5.448841</td>\n",
       "      <td>0.351317</td>\n",
       "      <td>1.006400</td>\n",
       "      <td>90.851972</td>\n",
       "      <td>223.974404</td>\n",
       "      <td>203.324964</td>\n",
       "      <td>302.604690</td>\n",
       "      <td>251.600065</td>\n",
       "    </tr>\n",
       "    <tr>\n",
       "      <th>min</th>\n",
       "      <td>31.000000</td>\n",
       "      <td>31.000000</td>\n",
       "      <td>152.400000</td>\n",
       "      <td>52.154195</td>\n",
       "      <td>147.320000</td>\n",
       "      <td>18.000000</td>\n",
       "      <td>0.000000</td>\n",
       "      <td>0.000000</td>\n",
       "      <td>0.000000</td>\n",
       "      <td>0.000000</td>\n",
       "      <td>...</td>\n",
       "      <td>0.000000</td>\n",
       "      <td>0.00000</td>\n",
       "      <td>0.000000</td>\n",
       "      <td>0.000000</td>\n",
       "      <td>1.000000</td>\n",
       "      <td>5.000000</td>\n",
       "      <td>-2300.000000</td>\n",
       "      <td>-900.000000</td>\n",
       "      <td>-3500.000000</td>\n",
       "      <td>-1500.000000</td>\n",
       "    </tr>\n",
       "    <tr>\n",
       "      <th>25%</th>\n",
       "      <td>1900.750000</td>\n",
       "      <td>1900.750000</td>\n",
       "      <td>170.180000</td>\n",
       "      <td>61.224490</td>\n",
       "      <td>175.260000</td>\n",
       "      <td>28.000000</td>\n",
       "      <td>0.000000</td>\n",
       "      <td>146.000000</td>\n",
       "      <td>67.000000</td>\n",
       "      <td>0.382689</td>\n",
       "      <td>...</td>\n",
       "      <td>0.333333</td>\n",
       "      <td>0.00000</td>\n",
       "      <td>0.000000</td>\n",
       "      <td>0.000000</td>\n",
       "      <td>1.000000</td>\n",
       "      <td>158.000000</td>\n",
       "      <td>-230.000000</td>\n",
       "      <td>-150.000000</td>\n",
       "      <td>-265.000000</td>\n",
       "      <td>-155.000000</td>\n",
       "    </tr>\n",
       "    <tr>\n",
       "      <th>50%</th>\n",
       "      <td>3580.500000</td>\n",
       "      <td>3580.500000</td>\n",
       "      <td>177.800000</td>\n",
       "      <td>70.294785</td>\n",
       "      <td>182.880000</td>\n",
       "      <td>31.000000</td>\n",
       "      <td>1.000000</td>\n",
       "      <td>413.500000</td>\n",
       "      <td>184.000000</td>\n",
       "      <td>0.442389</td>\n",
       "      <td>...</td>\n",
       "      <td>0.633333</td>\n",
       "      <td>2.93750</td>\n",
       "      <td>2.000000</td>\n",
       "      <td>0.629630</td>\n",
       "      <td>3.000000</td>\n",
       "      <td>300.000000</td>\n",
       "      <td>-155.000000</td>\n",
       "      <td>125.000000</td>\n",
       "      <td>-152.000000</td>\n",
       "      <td>120.000000</td>\n",
       "    </tr>\n",
       "    <tr>\n",
       "      <th>75%</th>\n",
       "      <td>5392.250000</td>\n",
       "      <td>5392.250000</td>\n",
       "      <td>185.420000</td>\n",
       "      <td>83.900227</td>\n",
       "      <td>190.500000</td>\n",
       "      <td>34.000000</td>\n",
       "      <td>3.000000</td>\n",
       "      <td>905.250000</td>\n",
       "      <td>402.250000</td>\n",
       "      <td>0.503885</td>\n",
       "      <td>...</td>\n",
       "      <td>0.745532</td>\n",
       "      <td>7.00000</td>\n",
       "      <td>4.800000</td>\n",
       "      <td>0.765019</td>\n",
       "      <td>3.000000</td>\n",
       "      <td>300.000000</td>\n",
       "      <td>120.000000</td>\n",
       "      <td>175.000000</td>\n",
       "      <td>122.000000</td>\n",
       "      <td>200.000000</td>\n",
       "    </tr>\n",
       "    <tr>\n",
       "      <th>max</th>\n",
       "      <td>7096.000000</td>\n",
       "      <td>7096.000000</td>\n",
       "      <td>210.820000</td>\n",
       "      <td>120.181406</td>\n",
       "      <td>213.360000</td>\n",
       "      <td>46.000000</td>\n",
       "      <td>20.000000</td>\n",
       "      <td>6324.000000</td>\n",
       "      <td>2975.000000</td>\n",
       "      <td>1.000000</td>\n",
       "      <td>...</td>\n",
       "      <td>1.000000</td>\n",
       "      <td>141.00000</td>\n",
       "      <td>84.000000</td>\n",
       "      <td>1.000000</td>\n",
       "      <td>5.000000</td>\n",
       "      <td>300.000000</td>\n",
       "      <td>600.000000</td>\n",
       "      <td>1100.000000</td>\n",
       "      <td>775.000000</td>\n",
       "      <td>1000.000000</td>\n",
       "    </tr>\n",
       "  </tbody>\n",
       "</table>\n",
       "<p>8 rows × 210 columns</p>\n",
       "</div>"
      ],
      "text/plain": [
       "       Unnamed: 0.1   Unnamed: 0  R_Height_cm  R_Weight_kg      R_Reach  \\\n",
       "count   4708.000000  4708.000000  4708.000000  4708.000000  4624.000000   \n",
       "mean    3612.097281  3612.097281   177.486007    73.803455   182.092842   \n",
       "std     2022.513871  2022.513871     9.244279    16.029015    11.308305   \n",
       "min       31.000000    31.000000   152.400000    52.154195   147.320000   \n",
       "25%     1900.750000  1900.750000   170.180000    61.224490   175.260000   \n",
       "50%     3580.500000  3580.500000   177.800000    70.294785   182.880000   \n",
       "75%     5392.250000  5392.250000   185.420000    83.900227   190.500000   \n",
       "max     7096.000000  7096.000000   210.820000   120.181406   213.360000   \n",
       "\n",
       "             R_Age  R_Total_Knockdowns  R_Total_Significant_Strikes_Attempted  \\\n",
       "count  4708.000000         4708.000000                            4708.000000   \n",
       "mean     30.937128            1.967502                             631.524851   \n",
       "std       4.246129            2.727167                             668.628788   \n",
       "min      18.000000            0.000000                               0.000000   \n",
       "25%      28.000000            0.000000                             146.000000   \n",
       "50%      31.000000            1.000000                             413.500000   \n",
       "75%      34.000000            3.000000                             905.250000   \n",
       "max      46.000000           20.000000                            6324.000000   \n",
       "\n",
       "       R_Total_Significant_Strikes_Landed  R_Significant_Strikes_%_Landed  \\\n",
       "count                         4708.000000                     4708.000000   \n",
       "mean                           279.340272                        0.422360   \n",
       "std                            291.850253                        0.152530   \n",
       "min                              0.000000                        0.000000   \n",
       "25%                             67.000000                        0.382689   \n",
       "50%                            184.000000                        0.442389   \n",
       "75%                            402.250000                        0.503885   \n",
       "max                           2975.000000                        1.000000   \n",
       "\n",
       "       ...  B_Opp_Significant_Strikes_in_Clinch_%_Landed  \\\n",
       "count  ...                                   4708.000000   \n",
       "mean   ...                                      0.522387   \n",
       "std    ...                                      0.320886   \n",
       "min    ...                                      0.000000   \n",
       "25%    ...                                      0.333333   \n",
       "50%    ...                                      0.633333   \n",
       "75%    ...                                      0.745532   \n",
       "max    ...                                      1.000000   \n",
       "\n",
       "       B_Opp_Average_Significant_Strikes_on_Ground_Attempted  \\\n",
       "count                                         4708.00000       \n",
       "mean                                             5.16545       \n",
       "std                                              7.77080       \n",
       "min                                              0.00000       \n",
       "25%                                              0.00000       \n",
       "50%                                              2.93750       \n",
       "75%                                              7.00000       \n",
       "max                                            141.00000       \n",
       "\n",
       "       B_Opp_Average_Significant_Strikes_on_Ground_Landed  \\\n",
       "count                                        4708.000000    \n",
       "mean                                            3.596194    \n",
       "std                                             5.448841    \n",
       "min                                             0.000000    \n",
       "25%                                             0.000000    \n",
       "50%                                             2.000000    \n",
       "75%                                             4.800000    \n",
       "max                                            84.000000    \n",
       "\n",
       "       B_Opp_Significant_Strikes_on_Ground_%_Landed  Number_of_Rounds  \\\n",
       "count                                   4708.000000       4708.000000   \n",
       "mean                                       0.505321          2.429269   \n",
       "std                                        0.351317          1.006400   \n",
       "min                                        0.000000          1.000000   \n",
       "25%                                        0.000000          1.000000   \n",
       "50%                                        0.629630          3.000000   \n",
       "75%                                        0.765019          3.000000   \n",
       "max                                        1.000000          5.000000   \n",
       "\n",
       "       Last_Round_Duration  R_Open_Odds  B_Open_Odds  R_Closing_Odds  \\\n",
       "count          4708.000000  4708.000000  4708.000000     4708.000000   \n",
       "mean            230.601742  -114.771453    37.722175     -137.179269   \n",
       "std              90.851972   223.974404   203.324964      302.604690   \n",
       "min               5.000000 -2300.000000  -900.000000    -3500.000000   \n",
       "25%             158.000000  -230.000000  -150.000000     -265.000000   \n",
       "50%             300.000000  -155.000000   125.000000     -152.000000   \n",
       "75%             300.000000   120.000000   175.000000      122.000000   \n",
       "max             300.000000   600.000000  1100.000000      775.000000   \n",
       "\n",
       "       B_Closing_Odds  \n",
       "count     4708.000000  \n",
       "mean        39.881903  \n",
       "std        251.600065  \n",
       "min      -1500.000000  \n",
       "25%       -155.000000  \n",
       "50%        120.000000  \n",
       "75%        200.000000  \n",
       "max       1000.000000  \n",
       "\n",
       "[8 rows x 210 columns]"
      ]
     },
     "execution_count": 5,
     "metadata": {},
     "output_type": "execute_result"
    }
   ],
   "source": [
    "data.describe()"
   ]
  },
  {
   "cell_type": "code",
   "execution_count": 6,
   "id": "a0d10e7f",
   "metadata": {},
   "outputs": [
    {
     "data": {
      "text/html": [
       "<div>\n",
       "<style scoped>\n",
       "    .dataframe tbody tr th:only-of-type {\n",
       "        vertical-align: middle;\n",
       "    }\n",
       "\n",
       "    .dataframe tbody tr th {\n",
       "        vertical-align: top;\n",
       "    }\n",
       "\n",
       "    .dataframe thead th {\n",
       "        text-align: right;\n",
       "    }\n",
       "</style>\n",
       "<table border=\"1\" class=\"dataframe\">\n",
       "  <thead>\n",
       "    <tr style=\"text-align: right;\">\n",
       "      <th></th>\n",
       "      <th>Event_Name</th>\n",
       "      <th>Event_Location</th>\n",
       "      <th>Fight_Weight</th>\n",
       "      <th>Fight_Gender</th>\n",
       "      <th>R_Name</th>\n",
       "      <th>R_Stance</th>\n",
       "      <th>B_Name</th>\n",
       "      <th>B_Stance</th>\n",
       "      <th>Time_Format</th>\n",
       "      <th>Referee</th>\n",
       "      <th>Conclusion_Method</th>\n",
       "      <th>Winner</th>\n",
       "    </tr>\n",
       "  </thead>\n",
       "  <tbody>\n",
       "    <tr>\n",
       "      <th>count</th>\n",
       "      <td>4708</td>\n",
       "      <td>4708</td>\n",
       "      <td>4708</td>\n",
       "      <td>4708</td>\n",
       "      <td>4708</td>\n",
       "      <td>4692</td>\n",
       "      <td>4708</td>\n",
       "      <td>4677</td>\n",
       "      <td>4708</td>\n",
       "      <td>4681</td>\n",
       "      <td>4708</td>\n",
       "      <td>4708</td>\n",
       "    </tr>\n",
       "    <tr>\n",
       "      <th>unique</th>\n",
       "      <td>401</td>\n",
       "      <td>137</td>\n",
       "      <td>10</td>\n",
       "      <td>2</td>\n",
       "      <td>1303</td>\n",
       "      <td>3</td>\n",
       "      <td>1471</td>\n",
       "      <td>3</td>\n",
       "      <td>3</td>\n",
       "      <td>164</td>\n",
       "      <td>10</td>\n",
       "      <td>4</td>\n",
       "    </tr>\n",
       "    <tr>\n",
       "      <th>top</th>\n",
       "      <td>UFC 286: Edwards vs. Usman 3</td>\n",
       "      <td>Las Vegas, Nevada, USA</td>\n",
       "      <td>Lightweight</td>\n",
       "      <td>Male</td>\n",
       "      <td>Derrick Lewis</td>\n",
       "      <td>Orthodox</td>\n",
       "      <td>Angela Hill</td>\n",
       "      <td>Orthodox</td>\n",
       "      <td>3 Rnd (5-5-5)</td>\n",
       "      <td>Herb Dean</td>\n",
       "      <td>Decision - Unanimous</td>\n",
       "      <td>Red</td>\n",
       "    </tr>\n",
       "    <tr>\n",
       "      <th>freq</th>\n",
       "      <td>15</td>\n",
       "      <td>1526</td>\n",
       "      <td>745</td>\n",
       "      <td>4056</td>\n",
       "      <td>20</td>\n",
       "      <td>3526</td>\n",
       "      <td>16</td>\n",
       "      <td>3421</td>\n",
       "      <td>4226</td>\n",
       "      <td>678</td>\n",
       "      <td>1755</td>\n",
       "      <td>2673</td>\n",
       "    </tr>\n",
       "  </tbody>\n",
       "</table>\n",
       "</div>"
      ],
      "text/plain": [
       "                          Event_Name          Event_Location Fight_Weight  \\\n",
       "count                           4708                    4708         4708   \n",
       "unique                           401                     137           10   \n",
       "top     UFC 286: Edwards vs. Usman 3  Las Vegas, Nevada, USA  Lightweight   \n",
       "freq                              15                    1526          745   \n",
       "\n",
       "       Fight_Gender         R_Name  R_Stance       B_Name  B_Stance  \\\n",
       "count          4708           4708      4692         4708      4677   \n",
       "unique            2           1303         3         1471         3   \n",
       "top            Male  Derrick Lewis  Orthodox  Angela Hill  Orthodox   \n",
       "freq           4056             20      3526           16      3421   \n",
       "\n",
       "          Time_Format    Referee     Conclusion_Method Winner  \n",
       "count            4708       4681                  4708   4708  \n",
       "unique              3        164                    10      4  \n",
       "top     3 Rnd (5-5-5)  Herb Dean  Decision - Unanimous    Red  \n",
       "freq             4226        678                  1755   2673  "
      ]
     },
     "execution_count": 6,
     "metadata": {},
     "output_type": "execute_result"
    }
   ],
   "source": [
    "data.describe(include=['O'])"
   ]
  },
  {
   "cell_type": "code",
   "execution_count": 7,
   "id": "f1fc9aa7",
   "metadata": {
    "scrolled": true
   },
   "outputs": [
    {
     "data": {
      "text/html": [
       "<div>\n",
       "<style scoped>\n",
       "    .dataframe tbody tr th:only-of-type {\n",
       "        vertical-align: middle;\n",
       "    }\n",
       "\n",
       "    .dataframe tbody tr th {\n",
       "        vertical-align: top;\n",
       "    }\n",
       "\n",
       "    .dataframe thead th {\n",
       "        text-align: right;\n",
       "    }\n",
       "</style>\n",
       "<table border=\"1\" class=\"dataframe\">\n",
       "  <thead>\n",
       "    <tr style=\"text-align: right;\">\n",
       "      <th></th>\n",
       "      <th>Unnamed: 0.1</th>\n",
       "      <th>Unnamed: 0</th>\n",
       "      <th>Event_Name</th>\n",
       "      <th>Event_Date</th>\n",
       "      <th>Event_Location</th>\n",
       "      <th>Fight_Weight</th>\n",
       "      <th>Fight_Title_Bout</th>\n",
       "      <th>Fight_Gender</th>\n",
       "      <th>R_Name</th>\n",
       "      <th>R_Height_cm</th>\n",
       "      <th>...</th>\n",
       "      <th>Number_of_Rounds</th>\n",
       "      <th>Last_Round_Duration</th>\n",
       "      <th>Time_Format</th>\n",
       "      <th>Referee</th>\n",
       "      <th>Conclusion_Method</th>\n",
       "      <th>Winner</th>\n",
       "      <th>R_Open_Odds</th>\n",
       "      <th>B_Open_Odds</th>\n",
       "      <th>R_Closing_Odds</th>\n",
       "      <th>B_Closing_Odds</th>\n",
       "    </tr>\n",
       "  </thead>\n",
       "  <tbody>\n",
       "    <tr>\n",
       "      <th>2400</th>\n",
       "      <td>1120</td>\n",
       "      <td>1120</td>\n",
       "      <td>UFC 164: Henderson vs Pettis 2</td>\n",
       "      <td>2013-08-31</td>\n",
       "      <td>Milwaukee, Wisconsin, USA</td>\n",
       "      <td>Flyweight</td>\n",
       "      <td>False</td>\n",
       "      <td>Male</td>\n",
       "      <td>Louis Gaudinot</td>\n",
       "      <td>160.02</td>\n",
       "      <td>...</td>\n",
       "      <td>3</td>\n",
       "      <td>300</td>\n",
       "      <td>3 Rnd (5-5-5)</td>\n",
       "      <td>Herb Dean</td>\n",
       "      <td>Decision - Unanimous</td>\n",
       "      <td>Blue</td>\n",
       "      <td>120.0</td>\n",
       "      <td>-160.0</td>\n",
       "      <td>190.0</td>\n",
       "      <td>-240.0</td>\n",
       "    </tr>\n",
       "    <tr>\n",
       "      <th>2401</th>\n",
       "      <td>1126</td>\n",
       "      <td>1126</td>\n",
       "      <td>UFC 164: Henderson vs Pettis 2</td>\n",
       "      <td>2013-08-31</td>\n",
       "      <td>Milwaukee, Wisconsin, USA</td>\n",
       "      <td>Heavyweight</td>\n",
       "      <td>False</td>\n",
       "      <td>Male</td>\n",
       "      <td>Frank Mir</td>\n",
       "      <td>190.50</td>\n",
       "      <td>...</td>\n",
       "      <td>1</td>\n",
       "      <td>116</td>\n",
       "      <td>3 Rnd (5-5-5)</td>\n",
       "      <td>Rob Hinds</td>\n",
       "      <td>KO/TKO</td>\n",
       "      <td>Blue</td>\n",
       "      <td>170.0</td>\n",
       "      <td>-230.0</td>\n",
       "      <td>155.0</td>\n",
       "      <td>-185.0</td>\n",
       "    </tr>\n",
       "    <tr>\n",
       "      <th>2402</th>\n",
       "      <td>1124</td>\n",
       "      <td>1124</td>\n",
       "      <td>UFC 164: Henderson vs Pettis 2</td>\n",
       "      <td>2013-08-31</td>\n",
       "      <td>Milwaukee, Wisconsin, USA</td>\n",
       "      <td>Featherweight</td>\n",
       "      <td>False</td>\n",
       "      <td>Male</td>\n",
       "      <td>Chad Mendes</td>\n",
       "      <td>167.64</td>\n",
       "      <td>...</td>\n",
       "      <td>3</td>\n",
       "      <td>30</td>\n",
       "      <td>3 Rnd (5-5-5)</td>\n",
       "      <td>Yves Lavigne</td>\n",
       "      <td>KO/TKO</td>\n",
       "      <td>Red</td>\n",
       "      <td>-350.0</td>\n",
       "      <td>250.0</td>\n",
       "      <td>-500.0</td>\n",
       "      <td>375.0</td>\n",
       "    </tr>\n",
       "    <tr>\n",
       "      <th>2403</th>\n",
       "      <td>1123</td>\n",
       "      <td>1123</td>\n",
       "      <td>UFC 164: Henderson vs Pettis 2</td>\n",
       "      <td>2013-08-31</td>\n",
       "      <td>Milwaukee, Wisconsin, USA</td>\n",
       "      <td>Heavyweight</td>\n",
       "      <td>False</td>\n",
       "      <td>Male</td>\n",
       "      <td>Ben Rothwell</td>\n",
       "      <td>193.04</td>\n",
       "      <td>...</td>\n",
       "      <td>3</td>\n",
       "      <td>114</td>\n",
       "      <td>3 Rnd (5-5-5)</td>\n",
       "      <td>Herb Dean</td>\n",
       "      <td>KO/TKO</td>\n",
       "      <td>Red</td>\n",
       "      <td>-130.0</td>\n",
       "      <td>-110.0</td>\n",
       "      <td>-155.0</td>\n",
       "      <td>110.0</td>\n",
       "    </tr>\n",
       "    <tr>\n",
       "      <th>2404</th>\n",
       "      <td>1122</td>\n",
       "      <td>1122</td>\n",
       "      <td>UFC 164: Henderson vs Pettis 2</td>\n",
       "      <td>2013-08-31</td>\n",
       "      <td>Milwaukee, Wisconsin, USA</td>\n",
       "      <td>Featherweight</td>\n",
       "      <td>False</td>\n",
       "      <td>Male</td>\n",
       "      <td>Erik Koch</td>\n",
       "      <td>177.80</td>\n",
       "      <td>...</td>\n",
       "      <td>3</td>\n",
       "      <td>300</td>\n",
       "      <td>3 Rnd (5-5-5)</td>\n",
       "      <td>Rob Hinds</td>\n",
       "      <td>Decision - Unanimous</td>\n",
       "      <td>Blue</td>\n",
       "      <td>-140.0</td>\n",
       "      <td>100.0</td>\n",
       "      <td>-210.0</td>\n",
       "      <td>170.0</td>\n",
       "    </tr>\n",
       "  </tbody>\n",
       "</table>\n",
       "<p>5 rows × 224 columns</p>\n",
       "</div>"
      ],
      "text/plain": [
       "      Unnamed: 0.1  Unnamed: 0                      Event_Name Event_Date  \\\n",
       "2400          1120        1120  UFC 164: Henderson vs Pettis 2 2013-08-31   \n",
       "2401          1126        1126  UFC 164: Henderson vs Pettis 2 2013-08-31   \n",
       "2402          1124        1124  UFC 164: Henderson vs Pettis 2 2013-08-31   \n",
       "2403          1123        1123  UFC 164: Henderson vs Pettis 2 2013-08-31   \n",
       "2404          1122        1122  UFC 164: Henderson vs Pettis 2 2013-08-31   \n",
       "\n",
       "                 Event_Location   Fight_Weight  Fight_Title_Bout Fight_Gender  \\\n",
       "2400  Milwaukee, Wisconsin, USA      Flyweight             False         Male   \n",
       "2401  Milwaukee, Wisconsin, USA    Heavyweight             False         Male   \n",
       "2402  Milwaukee, Wisconsin, USA  Featherweight             False         Male   \n",
       "2403  Milwaukee, Wisconsin, USA    Heavyweight             False         Male   \n",
       "2404  Milwaukee, Wisconsin, USA  Featherweight             False         Male   \n",
       "\n",
       "              R_Name  R_Height_cm  ...  Number_of_Rounds  Last_Round_Duration  \\\n",
       "2400  Louis Gaudinot       160.02  ...                 3                  300   \n",
       "2401       Frank Mir       190.50  ...                 1                  116   \n",
       "2402     Chad Mendes       167.64  ...                 3                   30   \n",
       "2403    Ben Rothwell       193.04  ...                 3                  114   \n",
       "2404       Erik Koch       177.80  ...                 3                  300   \n",
       "\n",
       "        Time_Format       Referee     Conclusion_Method  Winner  R_Open_Odds  \\\n",
       "2400  3 Rnd (5-5-5)     Herb Dean  Decision - Unanimous    Blue        120.0   \n",
       "2401  3 Rnd (5-5-5)     Rob Hinds                KO/TKO    Blue        170.0   \n",
       "2402  3 Rnd (5-5-5)  Yves Lavigne                KO/TKO     Red       -350.0   \n",
       "2403  3 Rnd (5-5-5)     Herb Dean                KO/TKO     Red       -130.0   \n",
       "2404  3 Rnd (5-5-5)     Rob Hinds  Decision - Unanimous    Blue       -140.0   \n",
       "\n",
       "      B_Open_Odds  R_Closing_Odds  B_Closing_Odds  \n",
       "2400       -160.0           190.0          -240.0  \n",
       "2401       -230.0           155.0          -185.0  \n",
       "2402        250.0          -500.0           375.0  \n",
       "2403       -110.0          -155.0           110.0  \n",
       "2404        100.0          -210.0           170.0  \n",
       "\n",
       "[5 rows x 224 columns]"
      ]
     },
     "execution_count": 7,
     "metadata": {},
     "output_type": "execute_result"
    }
   ],
   "source": [
    "data.head()"
   ]
  },
  {
   "cell_type": "code",
   "execution_count": 8,
   "id": "ff793a89",
   "metadata": {},
   "outputs": [],
   "source": [
    "# shuffling the data before we proceed:\n",
    "data = data.sample(frac=1, random_state=2023).reset_index(drop=True)"
   ]
  },
  {
   "cell_type": "markdown",
   "id": "4598442b",
   "metadata": {},
   "source": [
    "We further need to drop some of the columns that will not be of use. In this run, we include the closing odds.\n"
   ]
  },
  {
   "cell_type": "code",
   "execution_count": 9,
   "id": "277d58a4",
   "metadata": {},
   "outputs": [],
   "source": [
    "dropdata = data.drop(['Unnamed: 0',\n",
    "                      'Unnamed: 0.1',\n",
    "                      'Event_Name',\n",
    "                      'Event_Location',\n",
    "                      'B_Name',\n",
    "                      'R_Name',\n",
    "                      'Conclusion_Method',\n",
    "                      'Event_Date',\n",
    "                      'Last_Round_Duration',\n",
    "                      'Number_of_Rounds',\n",
    "                      'Referee',\n",
    "                      #'R_Closing_Odds', # we don't do that here\n",
    "                      #'B_Closing_Odds'\n",
    "                     ], axis=1)"
   ]
  },
  {
   "cell_type": "markdown",
   "id": "473eaaa2",
   "metadata": {},
   "source": [
    "Next, let's find numerical and categorical columns in our dataset. "
   ]
  },
  {
   "cell_type": "code",
   "execution_count": 10,
   "id": "6704eeec",
   "metadata": {},
   "outputs": [],
   "source": [
    "objecttypes_cat = list(dropdata.select_dtypes(include=['O']).columns)\n",
    "objecttypes_num = list(dropdata.select_dtypes(include=['int64', 'float64']).columns)\n",
    "\n",
    "# we don't want to one-hot encode 'Winner' since it's not really required\n",
    "# and the pipeline breaks if we do (it'll be looking for this var in \n",
    "# X_train&X_test but it's obviously not there)\n",
    "objecttypes_cat = [x for x in objecttypes_cat if x != 'Winner']"
   ]
  },
  {
   "cell_type": "markdown",
   "id": "c1231426",
   "metadata": {},
   "source": [
    "# Candidate models\n",
    "\n",
    "We've chosen the following candidate models that we will further try to get the best performance from. In the end, we will present a comparison of each model.\n",
    "\n",
    "#### - Perceptron\n",
    "#### - Random Forests\n",
    "#### - Decision Trees Classifier\n",
    "#### - SGD Classifier\n",
    "#### - Linear SVC\n",
    "#### - Gaussian Naive Bayes\n",
    "#### - KNN\n",
    "\n",
    "PS.\n",
    "Models can be loaded after they are saved. However, pay attention when loading them up after the kernel restart - loaded model may make predictions based on different training set. This means that it was partially trained on the current test set. It is due to the shuffling we make during train_test splitting."
   ]
  },
  {
   "cell_type": "code",
   "execution_count": 11,
   "id": "830d651b",
   "metadata": {},
   "outputs": [],
   "source": [
    "tuned_models = dict()\n",
    "outcome_class_labels = ['Red', 'Draw', 'No contest', 'Blue']"
   ]
  },
  {
   "cell_type": "markdown",
   "id": "d0187d88",
   "metadata": {},
   "source": [
    "### Standardizing the data (based on X_train) and outputting the naive classifier for the test set:"
   ]
  },
  {
   "cell_type": "code",
   "execution_count": 12,
   "id": "14bce0e7",
   "metadata": {},
   "outputs": [],
   "source": [
    "# Set the random seed\n",
    "random.seed(2137)\n",
    "np.random.seed(2137)\n",
    "\n",
    "Y_all = dropdata['Winner']\n",
    "X_all = dropdata.drop(['Winner'], axis=1)\n",
    "X_train, X_test, Y_train, Y_test = train_test_split(X_all, Y_all, test_size=0.25, random_state=2023)\n",
    "\n",
    "# standardizer for numerical columns\n",
    "transformer_num = Pipeline([\n",
    "    ('scaler', StandardScaler())\n",
    "])\n",
    "\n",
    "# standardizer for categorical columns\n",
    "transformer_cat = Pipeline([\n",
    "    ('scaler', OneHotEncoder())\n",
    "])\n",
    "\n",
    "# jumping into using these into the preprocessor for all features:\n",
    "preprocessor = ColumnTransformer(\n",
    "    transformers = [\n",
    "        ('num', transformer_num, objecttypes_num),\n",
    "        ('cat', transformer_cat, objecttypes_cat)   # no 'Winner' encoded\n",
    "], remainder='passthrough')\n",
    "\n",
    "# the standardization should be based on the training set, hence we obtain the relevant parameters:\n",
    "x = preprocessor.fit_transform(X_train)"
   ]
  },
  {
   "cell_type": "code",
   "execution_count": 13,
   "id": "1b66d89d",
   "metadata": {},
   "outputs": [
    {
     "name": "stdout",
     "output_type": "stream",
     "text": [
      "The naive classifier accuracy in the test set is:  0.5548003398470688\n"
     ]
    }
   ],
   "source": [
    "# printing the naive classifier on the test set\n",
    "naive_classifier = Y_test.loc[Y_test == 'Red'].count() / Y_test.count()\n",
    "print(\"The naive classifier accuracy in the test set is: \", naive_classifier)"
   ]
  },
  {
   "cell_type": "markdown",
   "id": "b7dac35f",
   "metadata": {},
   "source": [
    "The naive classifier that would be the least we should beat is the proportion of Red Winners to all fights outcomes, since it's the most common result. \n",
    "\n",
    "It appears that our models should be capable to achieve at least 55.5% accuracy to beat the naive classifier. It signifies that we do better than random guessing."
   ]
  },
  {
   "cell_type": "markdown",
   "id": "a78a89b0",
   "metadata": {},
   "source": [
    "## Perceptron:\n",
    "\n",
    "The Perceptron is another simple classification algorithm suitable for large scale learning. By default:\n",
    "\n",
    "        It does not require a learning rate.\n",
    "\n",
    "        It is not regularized (penalized).\n",
    "\n",
    "        It updates its model only on mistakes.\n",
    "\n",
    "The last characteristic implies that the Perceptron is slightly faster to train than SGD with the hinge loss and that the resulting models are sparser.\n",
    "\n",
    "- Linearly separable"
   ]
  },
  {
   "cell_type": "code",
   "execution_count": null,
   "id": "2fe529a5",
   "metadata": {
    "scrolled": true
   },
   "outputs": [],
   "source": [
    "# starting the timer to see how much time it takes\n",
    "start_time = time.time()\n",
    "\n",
    "# Let's define the model\n",
    "pipeline = Pipeline([\n",
    "    ('preprocessor', preprocessor),\n",
    "    ('imputer', KNNImputer()),\n",
    "    ('selector', SelectKBest()),\n",
    "    ('model', Perceptron(random_state=2023))\n",
    "])\n",
    "\n",
    "\n",
    "# Define the parameter grid\n",
    "param_grid = {\n",
    "    'selector__k': [8, 15, 20, 25, 30, 40, 50, 60, 70, 80, 90, 100, len(preprocessor.get_feature_names_out())],\n",
    "    'model__penalty': ['elasticnet', 'l2', 'l1', None],\n",
    "    'model__alpha': [0.01, 0.001],\n",
    "    'model__max_iter': [500, 1000, 1500],\n",
    "    'model__tol': [0.1, 0.01, 0.001, 0.0001]\n",
    "}\n",
    "\n",
    "# create the grid search object\n",
    "grid_search = GridSearchCV(pipeline, param_grid=param_grid, cv=5, n_jobs=3, verbose=2)\n",
    "\n",
    "# fit the grid search object to the data\n",
    "grid_search.fit(X_train, Y_train)\n",
    "\n",
    "# evaluate the best model on the test set\n",
    "score = grid_search.score(X_test, Y_test)\n",
    "\n",
    "# stopping the timer and seeing the result: ------------------------\n",
    "end_time = time.time()\n",
    "\n",
    "print('Accuracy on the test set: ', score)\n",
    "print('\\nBest parameters after the grid search: ', grid_search.best_params_)\n",
    "print(\"\\nTime taken for model to learn: \", end_time - start_time, \" seconds\")"
   ]
  },
  {
   "cell_type": "code",
   "execution_count": null,
   "id": "d2015954",
   "metadata": {},
   "outputs": [],
   "source": [
    "# save the model to disk using pickle\n",
    "if input('Are you sure you want to run this cell? It will overwrite current best model. Y/N: ') == 'Y':\n",
    "    with open('trained_models/best_perceptron_model_closed_odds.pkl', 'wb') as f:\n",
    "        pickle.dump(grid_search, f)"
   ]
  },
  {
   "cell_type": "code",
   "execution_count": 14,
   "id": "82fecf67",
   "metadata": {},
   "outputs": [
    {
     "name": "stdout",
     "output_type": "stream",
     "text": [
      "Best parameters after the grid search:  {'model__alpha': 0.01, 'model__max_iter': 500, 'model__penalty': 'l1', 'model__tol': 0.1, 'selector__k': 25}\n"
     ]
    }
   ],
   "source": [
    "# load the best model from disk using pickle\n",
    "with open('trained_models/best_perceptron_model_closed_odds.pkl', 'rb') as f:\n",
    "    model = pickle.load(f)\n",
    "\n",
    "print('Best parameters after the grid search: ', model.best_params_)"
   ]
  },
  {
   "cell_type": "code",
   "execution_count": 15,
   "id": "270af42b",
   "metadata": {
    "scrolled": true
   },
   "outputs": [
    {
     "name": "stdout",
     "output_type": "stream",
     "text": [
      "Columns after feature selection:  ['num__R_Age' 'num__R_Losing_Streak'\n",
      " 'num__R_Total_Number_of_Wins_By_Split_Decision'\n",
      " 'num__R_Total_Number_of_Fights' 'num__R_Win_%'\n",
      " 'num__R_Opp_Average_Knockdowns' 'num__R_Opp_Significant_Strikes_%_Landed'\n",
      " 'num__R_Opp_Average_Strikes_Landed' 'num__R_Opp_Total_Strikes_%_Landed'\n",
      " 'num__R_Opp_Average_Submission_Attempts' 'num__R_Opp_Average_Control'\n",
      " 'num__R_Opp_Average_Significant_Strikes_on_Head_Landed'\n",
      " 'num__R_Opp_Significant_Strikes_on_Head_%_Landed'\n",
      " 'num__R_Opp_Significant_Strikes_on_Body_%_Landed'\n",
      " 'num__R_Opp_Significant_Strikes_at_Distance_%_Landed'\n",
      " 'num__R_Opp_Average_Significant_Strikes_on_Ground_Attempted'\n",
      " 'num__R_Opp_Average_Significant_Strikes_on_Ground_Landed' 'num__B_Age'\n",
      " 'num__B_Average_Takedowns_Landed'\n",
      " 'num__B_Average_Significant_Strikes_on_Ground_Attempted'\n",
      " 'num__B_Average_Significant_Strikes_on_Ground_Landed' 'num__R_Open_Odds'\n",
      " 'num__B_Open_Odds' 'num__R_Closing_Odds' 'num__B_Closing_Odds']\n"
     ]
    }
   ],
   "source": [
    "# Get the selected feature indices after SelectKBest() in the best estimator\n",
    "selected_feature_indices = model.best_estimator_.named_steps['selector'].get_support(indices=True)\n",
    "\n",
    "# Get the column names of the selected features\n",
    "selected_feature_names = preprocessor.get_feature_names_out()[selected_feature_indices]\n",
    "print('Columns after feature selection: ', selected_feature_names)"
   ]
  },
  {
   "cell_type": "code",
   "execution_count": 16,
   "id": "271356a4",
   "metadata": {},
   "outputs": [
    {
     "data": {
      "image/png": "[encoded data removed]",
      "text/plain": [
       "<Figure size 640x480 with 2 Axes>"
      ]
     },
     "metadata": {},
     "output_type": "display_data"
    },
    {
     "name": "stderr",
     "output_type": "stream",
     "text": [
      "c:\\users\\mewash\\desktop\\datascienceprojectpython\\myenv\\lib\\site-packages\\sklearn\\metrics\\_classification.py:1344: UndefinedMetricWarning: Precision and F-score are ill-defined and being set to 0.0 in labels with no predicted samples. Use `zero_division` parameter to control this behavior.\n",
      "  _warn_prf(average, modifier, msg_start, len(result))\n",
      "c:\\users\\mewash\\desktop\\datascienceprojectpython\\myenv\\lib\\site-packages\\sklearn\\metrics\\_classification.py:1344: UndefinedMetricWarning: Precision and F-score are ill-defined and being set to 0.0 in labels with no predicted samples. Use `zero_division` parameter to control this behavior.\n",
      "  _warn_prf(average, modifier, msg_start, len(result))\n",
      "c:\\users\\mewash\\desktop\\datascienceprojectpython\\myenv\\lib\\site-packages\\sklearn\\metrics\\_classification.py:1344: UndefinedMetricWarning: Precision and F-score are ill-defined and being set to 0.0 in labels with no predicted samples. Use `zero_division` parameter to control this behavior.\n",
      "  _warn_prf(average, modifier, msg_start, len(result))\n"
     ]
    },
    {
     "name": "stdout",
     "output_type": "stream",
     "text": [
      "              precision    recall  f1-score   support\n",
      "\n",
      "         Red     0.6594    0.7856    0.7170       653\n",
      "        Draw     0.0000    0.0000    0.0000         7\n",
      "  No contest     0.0000    0.0000    0.0000         8\n",
      "        Blue     0.6316    0.4951    0.5551       509\n",
      "\n",
      "    accuracy                         0.6500      1177\n",
      "   macro avg     0.3227    0.3202    0.3180      1177\n",
      "weighted avg     0.6390    0.6500    0.6378      1177\n",
      "\n",
      "Accuracy on the test set:  0.6499575191163977\n",
      "Micro-average ROC_AUC_score: 0.89645155290428\n"
     ]
    }
   ],
   "source": [
    "# storing accuracy score:\n",
    "acc_sco = accuracy_score(Y_test, model.predict(X_test)) \n",
    "\n",
    "# construction confusion matrix\n",
    "cm = conf_mat(model, Y_test)\n",
    "\n",
    "# evaluating micro-averaged AUC:\n",
    "# The Perceptron() in sklearn doesn't offer the predict_proba() method, so we need to have workaround for that.\n",
    "# It can be accomplished by the following:\n",
    "calibrated_model = CalibratedClassifierCV(model.best_estimator_, cv='prefit')\n",
    "calibrated_model.fit(X_train, Y_train)\n",
    "# get predicted probabilities\n",
    "Y_pred_prob = calibrated_model.predict_proba(X_test)\n",
    "\n",
    "# Compute micro-average ROC AUC score\n",
    "roc_auc_micro = roc_auc_score(Y_test, Y_pred_prob, multi_class='ovr', average='micro')\n",
    "\n",
    "# store model results in tuned_models dictionary\n",
    "print('Accuracy on the test set: ',acc_sco)\n",
    "print('Micro-average ROC_AUC_score:', roc_auc_micro)\n",
    "tuned_models['Perceptron'] = {'accuracy': acc_sco, 'model': model, 'confusion_matrix': cm}"
   ]
  },
  {
   "cell_type": "markdown",
   "id": "0d5e6f4b",
   "metadata": {},
   "source": [
    "## Random Forest Classifier\n",
    "\n",
    "A random forest classifier.\n",
    "\n",
    "A random forest is a meta estimator that fits a number of decision tree classifiers on various sub-samples of the dataset and uses averaging to improve the predictive accuracy and control over-fitting. The sub-sample size is controlled with the max_samples parameter if bootstrap=True (default), otherwise the whole dataset is used to build each tree."
   ]
  },
  {
   "cell_type": "code",
   "execution_count": null,
   "id": "e7dd91b2",
   "metadata": {
    "scrolled": true
   },
   "outputs": [],
   "source": [
    "# starting the timer to see how much time it takes\n",
    "start_time = time.time()\n",
    "\n",
    "# Let's define the model\n",
    "pipeline = Pipeline([\n",
    "    ('preprocessor', preprocessor),\n",
    "    ('imputer', KNNImputer()),\n",
    "    ('selector', SelectKBest()),\n",
    "    ('model', RandomForestClassifier(random_state=123))\n",
    "])\n",
    "\n",
    "\n",
    "# Define the parameter grid\n",
    "param_grid = {\n",
    "    'selector__k': [10, 30, 50, 80, 110, 150, len(preprocessor.get_feature_names_out())],\n",
    "    'model__n_estimators': [100, 150, 200, 250, 300],\n",
    "    'model__criterion': ['gini'],\n",
    "    'model__max_depth': [None],\n",
    "    'model__min_samples_split': [2, 3, 4],\n",
    "    'model__min_samples_leaf': [2, 3, 4, 5, 6],\n",
    "    'model__max_features': ['sqrt']\n",
    "}\n",
    "\n",
    "# create the grid search object\n",
    "grid_search = GridSearchCV(pipeline, param_grid=param_grid, cv=5, verbose=2, n_jobs=4)\n",
    "\n",
    "# fit the grid search object to the data\n",
    "grid_search.fit(X_train, Y_train)\n",
    "\n",
    "# evaluate the best model on the test set\n",
    "score = grid_search.score(X_test, Y_test)\n",
    "\n",
    "# stopping the timer and seeing the result: ------------------------\n",
    "end_time = time.time()\n",
    "\n",
    "print('Accuracy on the test set: ', score)\n",
    "print('\\nBest parameters after the grid search: ', grid_search.best_params_)\n",
    "print(\"\\nTime taken for model to learn: \", end_time - start_time, \" seconds\")"
   ]
  },
  {
   "cell_type": "code",
   "execution_count": null,
   "id": "030b0c30",
   "metadata": {},
   "outputs": [],
   "source": [
    "# save the model to disk using pickle\n",
    "if input('Are you sure you want to run this cell? It will overwrite current best model. Y/N: ') == 'Y':\n",
    "    with open('trained_models/best_random_forest_model_closed_odds.pkl', 'wb') as f:\n",
    "        pickle.dump(grid_search, f)"
   ]
  },
  {
   "cell_type": "code",
   "execution_count": 17,
   "id": "39135fb5",
   "metadata": {
    "scrolled": true
   },
   "outputs": [
    {
     "name": "stdout",
     "output_type": "stream",
     "text": [
      "Best parameters after the grid search:  {'model__criterion': 'gini', 'model__max_depth': None, 'model__max_features': 'sqrt', 'model__min_samples_leaf': 5, 'model__min_samples_split': 2, 'model__n_estimators': 250, 'selector__k': 30}\n"
     ]
    }
   ],
   "source": [
    "# load the best model from disk using pickle\n",
    "with open('trained_models/best_random_forest_model_closed_odds.pkl', 'rb') as f:\n",
    "    model = pickle.load(f)\n",
    " \n",
    "print('Best parameters after the grid search: ', model.best_params_)"
   ]
  },
  {
   "cell_type": "code",
   "execution_count": 18,
   "id": "cf56ff01",
   "metadata": {
    "scrolled": true
   },
   "outputs": [
    {
     "name": "stdout",
     "output_type": "stream",
     "text": [
      "\n",
      "Columns after feature selection:  ['num__R_Age' 'num__R_Total_Knockdowns'\n",
      " 'num__R_Average_Significant_Strikes_on_Ground_Attempted'\n",
      " 'num__R_Winning_Streak' 'num__R_Losing_Streak'\n",
      " 'num__R_Total_Number_of_Wins_By_Split_Decision'\n",
      " 'num__R_Total_Number_of_Fights' 'num__R_Win_%'\n",
      " 'num__R_Opp_Average_Knockdowns' 'num__R_Opp_Significant_Strikes_%_Landed'\n",
      " 'num__R_Opp_Average_Strikes_Landed' 'num__R_Opp_Total_Strikes_%_Landed'\n",
      " 'num__R_Opp_Average_Submission_Attempts' 'num__R_Opp_Average_Control'\n",
      " 'num__R_Opp_Average_Significant_Strikes_on_Head_Landed'\n",
      " 'num__R_Opp_Significant_Strikes_on_Head_%_Landed'\n",
      " 'num__R_Opp_Significant_Strikes_on_Body_%_Landed'\n",
      " 'num__R_Opp_Significant_Strikes_at_Distance_%_Landed'\n",
      " 'num__R_Opp_Average_Significant_Strikes_on_Ground_Attempted'\n",
      " 'num__R_Opp_Average_Significant_Strikes_on_Ground_Landed' 'num__B_Age'\n",
      " 'num__B_Average_Takedowns_Landed'\n",
      " 'num__B_Average_Significant_Strikes_on_Ground_Attempted'\n",
      " 'num__B_Average_Significant_Strikes_on_Ground_Landed'\n",
      " 'num__B_Winning_Streak' 'num__R_Open_Odds' 'num__B_Open_Odds'\n",
      " 'num__R_Closing_Odds' 'num__B_Closing_Odds' 'cat__B_Stance_nan']\n"
     ]
    }
   ],
   "source": [
    "# Get the selected feature indices after SelectKBest() in the best estimator\n",
    "selected_feature_indices = model.best_estimator_.named_steps['selector'].get_support(indices=True)\n",
    "\n",
    "# Get the column names of the selected features\n",
    "selected_feature_names = preprocessor.get_feature_names_out()[selected_feature_indices]\n",
    "print('\\nColumns after feature selection: ', selected_feature_names)"
   ]
  },
  {
   "cell_type": "code",
   "execution_count": 19,
   "id": "3c31307e",
   "metadata": {},
   "outputs": [
    {
     "data": {
      "image/png": "[encoded data removed]",
      "text/plain": [
       "<Figure size 640x480 with 2 Axes>"
      ]
     },
     "metadata": {},
     "output_type": "display_data"
    },
    {
     "name": "stderr",
     "output_type": "stream",
     "text": [
      "c:\\users\\mewash\\desktop\\datascienceprojectpython\\myenv\\lib\\site-packages\\sklearn\\metrics\\_classification.py:1344: UndefinedMetricWarning: Precision and F-score are ill-defined and being set to 0.0 in labels with no predicted samples. Use `zero_division` parameter to control this behavior.\n",
      "  _warn_prf(average, modifier, msg_start, len(result))\n",
      "c:\\users\\mewash\\desktop\\datascienceprojectpython\\myenv\\lib\\site-packages\\sklearn\\metrics\\_classification.py:1344: UndefinedMetricWarning: Precision and F-score are ill-defined and being set to 0.0 in labels with no predicted samples. Use `zero_division` parameter to control this behavior.\n",
      "  _warn_prf(average, modifier, msg_start, len(result))\n",
      "c:\\users\\mewash\\desktop\\datascienceprojectpython\\myenv\\lib\\site-packages\\sklearn\\metrics\\_classification.py:1344: UndefinedMetricWarning: Precision and F-score are ill-defined and being set to 0.0 in labels with no predicted samples. Use `zero_division` parameter to control this behavior.\n",
      "  _warn_prf(average, modifier, msg_start, len(result))\n"
     ]
    },
    {
     "name": "stdout",
     "output_type": "stream",
     "text": [
      "              precision    recall  f1-score   support\n",
      "\n",
      "         Red     0.6578    0.7917    0.7186       653\n",
      "        Draw     0.0000    0.0000    0.0000         7\n",
      "  No contest     0.0000    0.0000    0.0000         8\n",
      "        Blue     0.6368    0.4892    0.5533       509\n",
      "\n",
      "    accuracy                         0.6508      1177\n",
      "   macro avg     0.3236    0.3202    0.3180      1177\n",
      "weighted avg     0.6403    0.6508    0.6379      1177\n",
      "\n",
      "Accuracy on the test set:  0.6508071367884452\n",
      "Micro-average ROC_AUC_score: 0.8943093421610799\n"
     ]
    }
   ],
   "source": [
    "# storing accuracy score:\n",
    "acc_sco = accuracy_score(Y_test, model.predict(X_test)) \n",
    "\n",
    "# construction confusion matrix\n",
    "cm = conf_mat(model, Y_test)\n",
    "\n",
    "# Compute micro-average ROC AUC score\n",
    "Y_pred_prob = model.predict_proba(X_test)\n",
    "roc_auc_micro = roc_auc_score(Y_test, Y_pred_prob, multi_class='ovr', average='micro')\n",
    "\n",
    "# store model results in tuned_models dictionary\n",
    "print('Accuracy on the test set: ',acc_sco)\n",
    "print('Micro-average ROC_AUC_score:', roc_auc_micro)\n",
    "tuned_models['Random_Forest'] = {'accuracy': acc_sco, 'model': model, 'confusion_matrix': cm}"
   ]
  },
  {
   "cell_type": "markdown",
   "id": "a2a470cb",
   "metadata": {},
   "source": [
    "## Decision Tree Classifier\n",
    "\n",
    "A decision tree classifier."
   ]
  },
  {
   "cell_type": "code",
   "execution_count": null,
   "id": "ac988d88",
   "metadata": {},
   "outputs": [],
   "source": [
    "# starting the timer to see how much time it takes\n",
    "start_time = time.time()\n",
    "\n",
    "# Let's define the model\n",
    "pipeline = Pipeline([\n",
    "    ('preprocessor', preprocessor),\n",
    "    ('Imputer', KNNImputer()),\n",
    "    ('selector', SelectKBest()),\n",
    "    ('model', DecisionTreeClassifier(random_state=2023))\n",
    "])\n",
    "\n",
    "\n",
    "# Define the parameter grid (k<5 check)\n",
    "param_grid = {\n",
    "    'selector__k': [3, 4, 5, 10, 15, 20, 25, 30, 40, 50, 70, 90, len(preprocessor.get_feature_names_out())],\n",
    "    'model__criterion': ['gini', 'entropy'],\n",
    "    'model__max_depth': [None, 4],\n",
    "    'model__min_samples_split': [2,3,4,6,8,10],\n",
    "    'model__min_samples_leaf': [1,2,3,4,6,8,10],\n",
    "    'model__max_features': ['sqrt', None]\n",
    "}\n",
    "\n",
    "# create the grid search object\n",
    "grid_search = GridSearchCV(pipeline, param_grid=param_grid, cv=5, verbose=2, n_jobs=4)\n",
    "\n",
    "# fit the grid search object to the data\n",
    "grid_search.fit(X_train, Y_train)\n",
    "\n",
    "# evaluate the best model on the test set\n",
    "score = grid_search.score(X_test, Y_test)\n",
    "\n",
    "# stopping the timer and seeing the result: ------------------------\n",
    "end_time = time.time()\n",
    "\n",
    "print('Accuracy on the test set: ', score)\n",
    "print('\\nBest parameters after the grid search: ', grid_search.best_params_)\n",
    "print(\"\\nTime taken for model to learn: \", end_time - start_time, \" seconds\")"
   ]
  },
  {
   "cell_type": "code",
   "execution_count": null,
   "id": "b11c92f9",
   "metadata": {},
   "outputs": [],
   "source": [
    "# save the model to disk using pickle\n",
    "if input('Are you sure you want to run this cell? It will overwrite current best model. Y/N: ') == 'Y':\n",
    "    with open('trained_models/best_decision_tree_model_closed_odds.pkl', 'wb') as f:\n",
    "        pickle.dump(grid_search, f)"
   ]
  },
  {
   "cell_type": "code",
   "execution_count": 20,
   "id": "59407bc7",
   "metadata": {
    "scrolled": true
   },
   "outputs": [
    {
     "name": "stdout",
     "output_type": "stream",
     "text": [
      "Best parameters after the grid search:  {'model__criterion': 'gini', 'model__max_depth': 4, 'model__max_features': 'sqrt', 'model__min_samples_leaf': 8, 'model__min_samples_split': 2, 'selector__k': 5}\n"
     ]
    }
   ],
   "source": [
    "# load the best model from disk using pickle\n",
    "with open('trained_models/best_decision_tree_model_closed_odds.pkl', 'rb') as f:\n",
    "    model = pickle.load(f)\n",
    " \n",
    "print('Best parameters after the grid search: ', model.best_params_)"
   ]
  },
  {
   "cell_type": "code",
   "execution_count": 21,
   "id": "2c61c5fd",
   "metadata": {},
   "outputs": [
    {
     "name": "stdout",
     "output_type": "stream",
     "text": [
      "Columns after feature selection:  ['num__R_Age' 'num__R_Open_Odds' 'num__B_Open_Odds' 'num__R_Closing_Odds'\n",
      " 'num__B_Closing_Odds']\n"
     ]
    }
   ],
   "source": [
    "# Get the selected feature indices after SelectKBest() in the best estimator\n",
    "selected_feature_indices = model.best_estimator_.named_steps['selector'].get_support(indices=True)\n",
    "\n",
    "# Get the column names of the selected features\n",
    "selected_feature_names = preprocessor.get_feature_names_out()[selected_feature_indices]\n",
    "print('Columns after feature selection: ', selected_feature_names)"
   ]
  },
  {
   "cell_type": "code",
   "execution_count": 22,
   "id": "c6158544",
   "metadata": {},
   "outputs": [
    {
     "data": {
      "image/png": "[encoded data removed]",
      "text/plain": [
       "<Figure size 640x480 with 2 Axes>"
      ]
     },
     "metadata": {},
     "output_type": "display_data"
    },
    {
     "name": "stdout",
     "output_type": "stream",
     "text": [
      "              precision    recall  f1-score   support\n",
      "\n",
      "         Red     0.6662    0.7580    0.7092       653\n",
      "        Draw     0.0000    0.0000    0.0000         7\n",
      "  No contest     0.0000    0.0000    0.0000         8\n",
      "        Blue     0.6198    0.5285    0.5705       509\n",
      "\n",
      "    accuracy                         0.6491      1177\n",
      "   macro avg     0.3215    0.3216    0.3199      1177\n",
      "weighted avg     0.6377    0.6491    0.6402      1177\n",
      "\n",
      "Accuracy on the test set:  0.64910790144435\n",
      "Micro-average ROC_AUC_score: 0.89842473039497\n"
     ]
    },
    {
     "name": "stderr",
     "output_type": "stream",
     "text": [
      "c:\\users\\mewash\\desktop\\datascienceprojectpython\\myenv\\lib\\site-packages\\sklearn\\metrics\\_classification.py:1344: UndefinedMetricWarning: Precision and F-score are ill-defined and being set to 0.0 in labels with no predicted samples. Use `zero_division` parameter to control this behavior.\n",
      "  _warn_prf(average, modifier, msg_start, len(result))\n",
      "c:\\users\\mewash\\desktop\\datascienceprojectpython\\myenv\\lib\\site-packages\\sklearn\\metrics\\_classification.py:1344: UndefinedMetricWarning: Precision and F-score are ill-defined and being set to 0.0 in labels with no predicted samples. Use `zero_division` parameter to control this behavior.\n",
      "  _warn_prf(average, modifier, msg_start, len(result))\n",
      "c:\\users\\mewash\\desktop\\datascienceprojectpython\\myenv\\lib\\site-packages\\sklearn\\metrics\\_classification.py:1344: UndefinedMetricWarning: Precision and F-score are ill-defined and being set to 0.0 in labels with no predicted samples. Use `zero_division` parameter to control this behavior.\n",
      "  _warn_prf(average, modifier, msg_start, len(result))\n"
     ]
    }
   ],
   "source": [
    "# storing accuracy score:\n",
    "acc_sco = accuracy_score(Y_test, model.predict(X_test)) \n",
    "\n",
    "# construction confusion matrix\n",
    "cm = conf_mat(model, Y_test)\n",
    "\n",
    "# Compute micro-average ROC AUC score\n",
    "Y_pred_prob = model.predict_proba(X_test)\n",
    "roc_auc_micro = roc_auc_score(Y_test, Y_pred_prob, multi_class='ovr', average='micro')\n",
    "\n",
    "# store model results in tuned_models dictionary\n",
    "print('Accuracy on the test set: ',acc_sco)\n",
    "print('Micro-average ROC_AUC_score:', roc_auc_micro)\n",
    "tuned_models['Decision_Tree'] = {'accuracy': acc_sco, 'model': model, 'confusion_matrix': cm}"
   ]
  },
  {
   "cell_type": "markdown",
   "id": "618658fb",
   "metadata": {},
   "source": [
    "## Stochastic Gradient Descent (SGD) Classifier\n",
    "\n",
    "A linear classifier with SGD training. Default implementation uses the loss='hinge' used for linear SVM"
   ]
  },
  {
   "cell_type": "code",
   "execution_count": null,
   "id": "010cc4ba",
   "metadata": {},
   "outputs": [],
   "source": [
    "# starting the timer to see how much time it takes\n",
    "start_time = time.time()\n",
    "\n",
    "# Let's define the model\n",
    "pipeline = Pipeline([\n",
    "    ('preprocessor', preprocessor),\n",
    "    ('imputer', KNNImputer()),\n",
    "    ('selector', SelectKBest()),\n",
    "    ('model', SGDClassifier(random_state=2023))\n",
    "])\n",
    "\n",
    "\n",
    "# Define the parameter grid\n",
    "param_grid = {\n",
    "    'selector__k': [10, 20, 30, 40, 50, 70, 90, 150, len(preprocessor.get_feature_names_out())],\n",
    "    'model__alpha': [0.1, 0.01, 0.001, 0.0001],\n",
    "    'model__penalty': ['l1', 'l2', 'elasticnet'],\n",
    "    'model__max_iter': [200, 500, 1000],\n",
    "    'model__tol': [0.1, 0.01, 0.001, 0.0001]\n",
    "}\n",
    "# create the grid search object\n",
    "grid_search = GridSearchCV(pipeline, param_grid=param_grid, cv=5, verbose=2, n_jobs=3)\n",
    "\n",
    "# fit the grid search object to the data\n",
    "grid_search.fit(X_train, Y_train)\n",
    "\n",
    "# evaluate the best model on the test set\n",
    "score = grid_search.score(X_test, Y_test)\n",
    "\n",
    "# stopping the timer and seeing the result: ------------------------\n",
    "end_time = time.time()\n",
    "\n",
    "print('Accuracy on the test set: ', score)\n",
    "print('\\nBest parameters after the grid search: ', grid_search.best_params_)\n",
    "print(\"\\nTime taken for model to learn: \", end_time - start_time, \" seconds\")"
   ]
  },
  {
   "cell_type": "code",
   "execution_count": null,
   "id": "ac519529",
   "metadata": {},
   "outputs": [],
   "source": [
    "# save the model to disk using pickle\n",
    "if input('Are you sure you want to run this cell? It will overwrite current best model. Y/N: ') == 'Y':\n",
    "    with open('trained_models/best_SGDClassfier_model_closed_odds.pkl', 'wb') as f:\n",
    "        pickle.dump(grid_search, f)"
   ]
  },
  {
   "cell_type": "code",
   "execution_count": 23,
   "id": "c7007ad3",
   "metadata": {},
   "outputs": [
    {
     "name": "stdout",
     "output_type": "stream",
     "text": [
      "Best parameters after the grid search:  {'model__alpha': 0.1, 'model__max_iter': 200, 'model__penalty': 'elasticnet', 'model__tol': 0.001, 'selector__k': 30}\n"
     ]
    }
   ],
   "source": [
    "# load the best model from disk using pickle\n",
    "with open('trained_models/best_SGDClassfier_model_closed_odds.pkl', 'rb') as f:\n",
    "    model = pickle.load(f)\n",
    " \n",
    "print('Best parameters after the grid search: ', model.best_params_)"
   ]
  },
  {
   "cell_type": "code",
   "execution_count": 24,
   "id": "65087ce1",
   "metadata": {
    "scrolled": true
   },
   "outputs": [
    {
     "name": "stdout",
     "output_type": "stream",
     "text": [
      "Columns after feature selection:  ['num__R_Age' 'num__R_Total_Knockdowns'\n",
      " 'num__R_Average_Significant_Strikes_on_Ground_Attempted'\n",
      " 'num__R_Winning_Streak' 'num__R_Losing_Streak'\n",
      " 'num__R_Total_Number_of_Wins_By_Split_Decision'\n",
      " 'num__R_Total_Number_of_Fights' 'num__R_Win_%'\n",
      " 'num__R_Opp_Average_Knockdowns' 'num__R_Opp_Significant_Strikes_%_Landed'\n",
      " 'num__R_Opp_Average_Strikes_Landed' 'num__R_Opp_Total_Strikes_%_Landed'\n",
      " 'num__R_Opp_Average_Submission_Attempts' 'num__R_Opp_Average_Control'\n",
      " 'num__R_Opp_Average_Significant_Strikes_on_Head_Landed'\n",
      " 'num__R_Opp_Significant_Strikes_on_Head_%_Landed'\n",
      " 'num__R_Opp_Significant_Strikes_on_Body_%_Landed'\n",
      " 'num__R_Opp_Significant_Strikes_at_Distance_%_Landed'\n",
      " 'num__R_Opp_Average_Significant_Strikes_on_Ground_Attempted'\n",
      " 'num__R_Opp_Average_Significant_Strikes_on_Ground_Landed' 'num__B_Age'\n",
      " 'num__B_Average_Takedowns_Landed'\n",
      " 'num__B_Average_Significant_Strikes_on_Ground_Attempted'\n",
      " 'num__B_Average_Significant_Strikes_on_Ground_Landed'\n",
      " 'num__B_Winning_Streak' 'num__R_Open_Odds' 'num__B_Open_Odds'\n",
      " 'num__R_Closing_Odds' 'num__B_Closing_Odds' 'cat__B_Stance_nan']\n"
     ]
    }
   ],
   "source": [
    "# Get the selected feature indices after SelectKBest() in the best estimator\n",
    "selected_feature_indices = model.best_estimator_.named_steps['selector'].get_support(indices=True)\n",
    "\n",
    "# Get the column names of the selected features\n",
    "selected_feature_names = preprocessor.get_feature_names_out()[selected_feature_indices]\n",
    "print('Columns after feature selection: ', selected_feature_names)"
   ]
  },
  {
   "cell_type": "code",
   "execution_count": 25,
   "id": "7db22164",
   "metadata": {},
   "outputs": [
    {
     "data": {
      "image/png": "[encoded data removed]",
      "text/plain": [
       "<Figure size 640x480 with 2 Axes>"
      ]
     },
     "metadata": {},
     "output_type": "display_data"
    },
    {
     "name": "stderr",
     "output_type": "stream",
     "text": [
      "c:\\users\\mewash\\desktop\\datascienceprojectpython\\myenv\\lib\\site-packages\\sklearn\\metrics\\_classification.py:1344: UndefinedMetricWarning: Precision and F-score are ill-defined and being set to 0.0 in labels with no predicted samples. Use `zero_division` parameter to control this behavior.\n",
      "  _warn_prf(average, modifier, msg_start, len(result))\n",
      "c:\\users\\mewash\\desktop\\datascienceprojectpython\\myenv\\lib\\site-packages\\sklearn\\metrics\\_classification.py:1344: UndefinedMetricWarning: Precision and F-score are ill-defined and being set to 0.0 in labels with no predicted samples. Use `zero_division` parameter to control this behavior.\n",
      "  _warn_prf(average, modifier, msg_start, len(result))\n",
      "c:\\users\\mewash\\desktop\\datascienceprojectpython\\myenv\\lib\\site-packages\\sklearn\\metrics\\_classification.py:1344: UndefinedMetricWarning: Precision and F-score are ill-defined and being set to 0.0 in labels with no predicted samples. Use `zero_division` parameter to control this behavior.\n",
      "  _warn_prf(average, modifier, msg_start, len(result))\n"
     ]
    },
    {
     "name": "stdout",
     "output_type": "stream",
     "text": [
      "              precision    recall  f1-score   support\n",
      "\n",
      "         Red     0.6615    0.7902    0.7202       653\n",
      "        Draw     0.0000    0.0000    0.0000         7\n",
      "  No contest     0.0000    0.0000    0.0000         8\n",
      "        Blue     0.6373    0.4971    0.5585       509\n",
      "\n",
      "    accuracy                         0.6534      1177\n",
      "   macro avg     0.3247    0.3218    0.3197      1177\n",
      "weighted avg     0.6426    0.6534    0.6411      1177\n",
      "\n",
      "Accuracy on the test set:  0.653355989804588\n",
      "Micro-average ROC_AUC_score: 0.8979561293141677\n"
     ]
    }
   ],
   "source": [
    "# storing accuracy score:\n",
    "acc_sco = accuracy_score(Y_test, model.predict(X_test)) \n",
    "\n",
    "# construction confusion matrix\n",
    "cm = conf_mat(model, Y_test)\n",
    "\n",
    "# Compute micro-average ROC AUC score\n",
    "# The SGDClassifier() with loss = 'hinge' (for SVM) in sklearn doesn't offer the predict_proba() method, \n",
    "# so we need to have workaround for that.\n",
    "# It can be accomplished by the following:\n",
    "calibrated_model = CalibratedClassifierCV(model.best_estimator_, cv='prefit')\n",
    "calibrated_model.fit(X_train, Y_train)\n",
    "# get predicted probabilities\n",
    "Y_pred_prob = calibrated_model.predict_proba(X_test)\n",
    "roc_auc_micro = roc_auc_score(Y_test, Y_pred_prob, multi_class='ovr', average='micro')\n",
    "\n",
    "# store model results in tuned_models dictionary\n",
    "print('Accuracy on the test set: ',acc_sco)\n",
    "print('Micro-average ROC_AUC_score:', roc_auc_micro)\n",
    "tuned_models['SGDClassfier'] = {'accuracy': acc_sco, 'model': model, 'confusion_matrix': cm}"
   ]
  },
  {
   "cell_type": "markdown",
   "id": "609c8a93",
   "metadata": {},
   "source": [
    "## Linear SVC\n",
    "\n",
    "Linear Support Vector Classification."
   ]
  },
  {
   "cell_type": "code",
   "execution_count": null,
   "id": "25ad8ad7",
   "metadata": {
    "scrolled": true
   },
   "outputs": [],
   "source": [
    "# starting the timer to see how much time it takes\n",
    "start_time = time.time()\n",
    "\n",
    "# Let's define the model\n",
    "pipeline = Pipeline([\n",
    "    ('preprocessor', preprocessor),\n",
    "    ('imputer', KNNImputer()),\n",
    "    ('selector', SelectKBest()),\n",
    "    ('model', LinearSVC(random_state=2023))\n",
    "])\n",
    "\n",
    "\n",
    "# Define the parameter grid\n",
    "param_grid = {\n",
    "    'selector__k': [5, 10, 20, 40, 50, 60, 75, 90, 130, len(preprocessor.get_feature_names_out())],\n",
    "    'model__loss': ['hinge'],\n",
    "    'model__C': [10, 1, 0.1, 0.01, 0.001],\n",
    "    'model__penalty': ['l2'],\n",
    "    'model__max_iter': [500, 1000, 1500],\n",
    "    'model__tol': [0.1, 0.01, 0.001, 0.0001, 0.00001]\n",
    "}\n",
    "# create the grid search object\n",
    "grid_search = GridSearchCV(pipeline, param_grid=param_grid, cv=5, verbose=2, n_jobs=3)\n",
    "\n",
    "# fit the grid search object to the data\n",
    "grid_search.fit(X_train, Y_train)\n",
    "\n",
    "# evaluate the best model on the test set\n",
    "score = grid_search.score(X_test, Y_test)\n",
    "\n",
    "# stopping the timer and seeing the result: ------------------------\n",
    "end_time = time.time()\n",
    "\n",
    "print('Accuracy on the test set: ', score)\n",
    "print('\\nBest parameters after the grid search: ', grid_search.best_params_)\n",
    "print(\"\\nTime taken for model to learn: \", end_time - start_time, \" seconds\")"
   ]
  },
  {
   "cell_type": "code",
   "execution_count": null,
   "id": "f71ab1e1",
   "metadata": {},
   "outputs": [],
   "source": [
    "# save the model to disk using pickle\n",
    "if input('Are you sure you want to run this cell? It will overwrite current best model. Y/N: ') == 'Y':\n",
    "    with open('trained_models/best_LinearSVC_model_closed_odds.pkl', 'wb') as f:\n",
    "        pickle.dump(grid_search, f)"
   ]
  },
  {
   "cell_type": "code",
   "execution_count": 26,
   "id": "671309ec",
   "metadata": {},
   "outputs": [
    {
     "name": "stdout",
     "output_type": "stream",
     "text": [
      "Best parameters after the grid search:  {'model__C': 0.001, 'model__loss': 'hinge', 'model__max_iter': 500, 'model__penalty': 'l2', 'model__tol': 0.0001, 'selector__k': 230}\n"
     ]
    }
   ],
   "source": [
    "# load the best model from disk using pickle\n",
    "with open('trained_models/best_LinearSVC_model_closed_odds.pkl', 'rb') as f:\n",
    "    model = pickle.load(f)\n",
    " \n",
    "print('Best parameters after the grid search: ', model.best_params_)"
   ]
  },
  {
   "cell_type": "code",
   "execution_count": 27,
   "id": "55fd84ea",
   "metadata": {},
   "outputs": [
    {
     "name": "stdout",
     "output_type": "stream",
     "text": [
      "Columns after feature selection:  ['num__R_Height_cm' 'num__R_Weight_kg' 'num__R_Reach' 'num__R_Age'\n",
      " 'num__R_Total_Knockdowns' 'num__R_Total_Significant_Strikes_Attempted'\n",
      " 'num__R_Total_Significant_Strikes_Landed'\n",
      " 'num__R_Significant_Strikes_%_Landed' 'num__R_Total_Strikes_Attempted'\n",
      " 'num__R_Total_Strikes_Landed' 'num__R_Total_Strikes_%_Landed'\n",
      " 'num__R_Total_Takedowns_Attempted' 'num__R_Total_Takedowns_Landed'\n",
      " 'num__R_Takedowns_%_Landed' 'num__R_Total_Submission_Attempts'\n",
      " 'num__R_Total_Reversals' 'num__R_Total_Control'\n",
      " 'num__R_Total_Significant_Strikes_on_Head_Attempted'\n",
      " 'num__R_Total_Significant_Strikes_on_Head_Landed'\n",
      " 'num__R_Significant_Strikes_on_Head_%_Landed'\n",
      " 'num__R_Total_Significant_Strikes_on_Body_Attempted'\n",
      " 'num__R_Total_Significant_Strikes_on_Body_Landed'\n",
      " 'num__R_Significant_Strikes_on_Body_%_Landed'\n",
      " 'num__R_Total_Significant_Strikes_on_Leg_Attempted'\n",
      " 'num__R_Total_Significant_Strikes_on_Leg_Landed'\n",
      " 'num__R_Significant_Strikes_on_Leg_%_Landed'\n",
      " 'num__R_Total_Significant_Strikes_at_Distance_Attempted'\n",
      " 'num__R_Total_Significant_Strikes_at_Distance_Landed'\n",
      " 'num__R_Significant_Strikes_at_Distance_%_Landed'\n",
      " 'num__R_Total_Significant_Strikes_in_Clinch_Attempted'\n",
      " 'num__R_Total_Significant_Strikes_in_Clinch_Landed'\n",
      " 'num__R_Significant_Strikes_in_Clinch_%_Landed'\n",
      " 'num__R_Total_Significant_Strikes_on_Ground_Attempted'\n",
      " 'num__R_Total_Significant_Strikes_on_Ground_Landed'\n",
      " 'num__R_Significant_Strikes_on_Ground_%_Landed'\n",
      " 'num__R_Average_Knockdowns'\n",
      " 'num__R_Average_Significant_Strikes_Attempted'\n",
      " 'num__R_Average_Significant_Strikes_Landed'\n",
      " 'num__R_Average_Strikes_Attempted' 'num__R_Average_Strikes_Landed'\n",
      " 'num__R_Average_Takedowns_Attempted' 'num__R_Average_Takedowns_Landed'\n",
      " 'num__R_Average_Submission_Attempts' 'num__R_Average_Reversals'\n",
      " 'num__R_Average_Control'\n",
      " 'num__R_Average_Significant_Strikes_on_Head_Attempted'\n",
      " 'num__R_Average_Significant_Strikes_on_Head_Landed'\n",
      " 'num__R_Average_Significant_Strikes_on_Body_Attempted'\n",
      " 'num__R_Average_Significant_Strikes_on_Body_Landed'\n",
      " 'num__R_Average_Significant_Strikes_on_Leg_Attempted'\n",
      " 'num__R_Average_Significant_Strikes_on_Leg_Landed'\n",
      " 'num__R_Average_Significant_Strikes_at_Distance_Attempted'\n",
      " 'num__R_Average_Significant_Strikes_at_Distance_Landed'\n",
      " 'num__R_Average_Significant_Strikes_in_Clinch_Attempted'\n",
      " 'num__R_Average_Significant_Strikes_in_Clinch_Landed'\n",
      " 'num__R_Average_Significant_Strikes_on_Ground_Attempted'\n",
      " 'num__R_Average_Significant_Strikes_on_Ground_Landed'\n",
      " 'num__R_Winning_Streak' 'num__R_Losing_Streak'\n",
      " 'num__R_Total_Number_of_Wins' 'num__R_Total_Number_of_Title_Wins'\n",
      " 'num__R_Total_Number_of_Wins_By_KO/TKO'\n",
      " 'num__R_Total_Number_of_Wins_By_Unanimous_Decision'\n",
      " 'num__R_Total_Number_of_Wins_By_Submission'\n",
      " 'num__R_Total_Number_of_Wins_By_Split_Decision'\n",
      " 'num__R_Total_Number_of_Wins_By_Majority_Vote'\n",
      " 'num__R_Total_Number_of_Wins_by_Doctor_Stoppage'\n",
      " 'num__R_Total_Number_of_Fights' 'num__R_Total_Number_of_Fights_for_Title'\n",
      " 'num__R_Win_%' 'num__R_Opp_Average_Knockdowns'\n",
      " 'num__R_Opp_Average_Significant_Strikes_Attempted'\n",
      " 'num__R_Opp_Average_Significant_Strikes_Landed'\n",
      " 'num__R_Opp_Significant_Strikes_%_Landed'\n",
      " 'num__R_Opp_Average_Strikes_Attempted'\n",
      " 'num__R_Opp_Average_Strikes_Landed' 'num__R_Opp_Total_Strikes_%_Landed'\n",
      " 'num__R_Opp_Average_Takedowns_Attempted'\n",
      " 'num__R_Opp_Average_Takedowns_Landed' 'num__R_Opp_Takedowns_%_Landed'\n",
      " 'num__R_Opp_Average_Submission_Attempts' 'num__R_Opp_Average_Reversals'\n",
      " 'num__R_Opp_Average_Control'\n",
      " 'num__R_Opp_Average_Significant_Strikes_on_Head_Attempted'\n",
      " 'num__R_Opp_Average_Significant_Strikes_on_Head_Landed'\n",
      " 'num__R_Opp_Significant_Strikes_on_Head_%_Landed'\n",
      " 'num__R_Opp_Average_Significant_Strikes_on_Body_Attempted'\n",
      " 'num__R_Opp_Average_Significant_Strikes_on_Body_Landed'\n",
      " 'num__R_Opp_Significant_Strikes_on_Body_%_Landed'\n",
      " 'num__R_Opp_Average_Significant_Strikes_on_Leg_Attempted'\n",
      " 'num__R_Opp_Average_Significant_Strikes_on_Leg_Landed'\n",
      " 'num__R_Opp_Significant_Strikes_on_Leg_%_Landed'\n",
      " 'num__R_Opp_Average_Significant_Strikes_at_Distance_Attempted'\n",
      " 'num__R_Opp_Average_Significant_Strikes_at_Distance_Landed'\n",
      " 'num__R_Opp_Significant_Strikes_at_Distance_%_Landed'\n",
      " 'num__R_Opp_Average_Significant_Strikes_in_Clinch_Attempted'\n",
      " 'num__R_Opp_Average_Significant_Strikes_in_Clinch_Landed'\n",
      " 'num__R_Opp_Significant_Strikes_in_Clinch_%_Landed'\n",
      " 'num__R_Opp_Average_Significant_Strikes_on_Ground_Attempted'\n",
      " 'num__R_Opp_Average_Significant_Strikes_on_Ground_Landed'\n",
      " 'num__R_Opp_Significant_Strikes_on_Ground_%_Landed' 'num__B_Height_cm'\n",
      " 'num__B_Weight_kg' 'num__B_Reach' 'num__B_Age' 'num__B_Total_Knockdowns'\n",
      " 'num__B_Total_Significant_Strikes_Attempted'\n",
      " 'num__B_Total_Significant_Strikes_Landed'\n",
      " 'num__B_Significant_Strikes_%_Landed' 'num__B_Total_Strikes_Attempted'\n",
      " 'num__B_Total_Strikes_Landed' 'num__B_Total_Strikes_%_Landed'\n",
      " 'num__B_Total_Takedowns_Attempted' 'num__B_Total_Takedowns_Landed'\n",
      " 'num__B_Takedowns_%_Landed' 'num__B_Total_Submission_Attempts'\n",
      " 'num__B_Total_Reversals' 'num__B_Total_Control'\n",
      " 'num__B_Total_Significant_Strikes_on_Head_Attempted'\n",
      " 'num__B_Total_Significant_Strikes_on_Head_Landed'\n",
      " 'num__B_Significant_Strikes_on_Head_%_Landed'\n",
      " 'num__B_Total_Significant_Strikes_on_Body_Attempted'\n",
      " 'num__B_Total_Significant_Strikes_on_Body_Landed'\n",
      " 'num__B_Significant_Strikes_on_Body_%_Landed'\n",
      " 'num__B_Total_Significant_Strikes_on_Leg_Attempted'\n",
      " 'num__B_Total_Significant_Strikes_on_Leg_Landed'\n",
      " 'num__B_Significant_Strikes_on_Leg_%_Landed'\n",
      " 'num__B_Total_Significant_Strikes_at_Distance_Attempted'\n",
      " 'num__B_Total_Significant_Strikes_at_Distance_Landed'\n",
      " 'num__B_Significant_Strikes_at_Distance_%_Landed'\n",
      " 'num__B_Total_Significant_Strikes_in_Clinch_Attempted'\n",
      " 'num__B_Total_Significant_Strikes_in_Clinch_Landed'\n",
      " 'num__B_Significant_Strikes_in_Clinch_%_Landed'\n",
      " 'num__B_Total_Significant_Strikes_on_Ground_Attempted'\n",
      " 'num__B_Total_Significant_Strikes_on_Ground_Landed'\n",
      " 'num__B_Significant_Strikes_on_Ground_%_Landed'\n",
      " 'num__B_Average_Knockdowns'\n",
      " 'num__B_Average_Significant_Strikes_Attempted'\n",
      " 'num__B_Average_Significant_Strikes_Landed'\n",
      " 'num__B_Average_Strikes_Attempted' 'num__B_Average_Strikes_Landed'\n",
      " 'num__B_Average_Takedowns_Attempted' 'num__B_Average_Takedowns_Landed'\n",
      " 'num__B_Average_Submission_Attempts' 'num__B_Average_Reversals'\n",
      " 'num__B_Average_Control'\n",
      " 'num__B_Average_Significant_Strikes_on_Head_Attempted'\n",
      " 'num__B_Average_Significant_Strikes_on_Head_Landed'\n",
      " 'num__B_Average_Significant_Strikes_on_Body_Attempted'\n",
      " 'num__B_Average_Significant_Strikes_on_Body_Landed'\n",
      " 'num__B_Average_Significant_Strikes_on_Leg_Attempted'\n",
      " 'num__B_Average_Significant_Strikes_on_Leg_Landed'\n",
      " 'num__B_Average_Significant_Strikes_at_Distance_Attempted'\n",
      " 'num__B_Average_Significant_Strikes_at_Distance_Landed'\n",
      " 'num__B_Average_Significant_Strikes_in_Clinch_Attempted'\n",
      " 'num__B_Average_Significant_Strikes_in_Clinch_Landed'\n",
      " 'num__B_Average_Significant_Strikes_on_Ground_Attempted'\n",
      " 'num__B_Average_Significant_Strikes_on_Ground_Landed'\n",
      " 'num__B_Winning_Streak' 'num__B_Losing_Streak'\n",
      " 'num__B_Total_Number_of_Wins' 'num__B_Total_Number_of_Title_Wins'\n",
      " 'num__B_Total_Number_of_Wins_By_KO/TKO'\n",
      " 'num__B_Total_Number_of_Wins_By_Unanimous_Decision'\n",
      " 'num__B_Total_Number_of_Wins_By_Submission'\n",
      " 'num__B_Total_Number_of_Wins_By_Split_Decision'\n",
      " 'num__B_Total_Number_of_Wins_By_Majority_Vote'\n",
      " 'num__B_Total_Number_of_Wins_by_Doctor_Stoppage'\n",
      " 'num__B_Total_Number_of_Fights' 'num__B_Total_Number_of_Fights_for_Title'\n",
      " 'num__B_Win_%' 'num__B_Opp_Average_Knockdowns'\n",
      " 'num__B_Opp_Average_Significant_Strikes_Attempted'\n",
      " 'num__B_Opp_Average_Significant_Strikes_Landed'\n",
      " 'num__B_Opp_Significant_Strikes_%_Landed'\n",
      " 'num__B_Opp_Average_Strikes_Attempted'\n",
      " 'num__B_Opp_Average_Strikes_Landed' 'num__B_Opp_Total_Strikes_%_Landed'\n",
      " 'num__B_Opp_Average_Takedowns_Attempted'\n",
      " 'num__B_Opp_Average_Takedowns_Landed' 'num__B_Opp_Takedowns_%_Landed'\n",
      " 'num__B_Opp_Average_Submission_Attempts' 'num__B_Opp_Average_Reversals'\n",
      " 'num__B_Opp_Average_Control'\n",
      " 'num__B_Opp_Average_Significant_Strikes_on_Head_Attempted'\n",
      " 'num__B_Opp_Average_Significant_Strikes_on_Head_Landed'\n",
      " 'num__B_Opp_Significant_Strikes_on_Head_%_Landed'\n",
      " 'num__B_Opp_Average_Significant_Strikes_on_Body_Attempted'\n",
      " 'num__B_Opp_Average_Significant_Strikes_on_Body_Landed'\n",
      " 'num__B_Opp_Significant_Strikes_on_Body_%_Landed'\n",
      " 'num__B_Opp_Average_Significant_Strikes_on_Leg_Attempted'\n",
      " 'num__B_Opp_Average_Significant_Strikes_on_Leg_Landed'\n",
      " 'num__B_Opp_Significant_Strikes_on_Leg_%_Landed'\n",
      " 'num__B_Opp_Average_Significant_Strikes_at_Distance_Attempted'\n",
      " 'num__B_Opp_Average_Significant_Strikes_at_Distance_Landed'\n",
      " 'num__B_Opp_Significant_Strikes_at_Distance_%_Landed'\n",
      " 'num__B_Opp_Average_Significant_Strikes_in_Clinch_Attempted'\n",
      " 'num__B_Opp_Average_Significant_Strikes_in_Clinch_Landed'\n",
      " 'num__B_Opp_Significant_Strikes_in_Clinch_%_Landed'\n",
      " 'num__B_Opp_Average_Significant_Strikes_on_Ground_Attempted'\n",
      " 'num__B_Opp_Average_Significant_Strikes_on_Ground_Landed'\n",
      " 'num__B_Opp_Significant_Strikes_on_Ground_%_Landed' 'num__R_Open_Odds'\n",
      " 'num__B_Open_Odds' 'num__R_Closing_Odds' 'num__B_Closing_Odds'\n",
      " 'cat__Fight_Weight_Bantamweight' 'cat__Fight_Weight_Catchweight'\n",
      " 'cat__Fight_Weight_Featherweight' 'cat__Fight_Weight_Flyweight'\n",
      " 'cat__Fight_Weight_Heavyweight' 'cat__Fight_Weight_Light Heavyweight'\n",
      " 'cat__Fight_Weight_Lightweight' 'cat__Fight_Weight_Middleweight'\n",
      " 'cat__Fight_Weight_Strawweight' 'cat__Fight_Weight_Welterweight'\n",
      " 'cat__Fight_Gender_Female' 'cat__Fight_Gender_Male'\n",
      " 'cat__R_Stance_Orthodox' 'cat__R_Stance_Southpaw' 'cat__R_Stance_Switch'\n",
      " 'cat__R_Stance_nan' 'cat__B_Stance_Orthodox' 'cat__B_Stance_Southpaw'\n",
      " 'cat__B_Stance_Switch' 'cat__B_Stance_nan'\n",
      " 'cat__Time_Format_3 Rnd (5-5-5)' 'cat__Time_Format_3 Rnd + OT (5-5-5-5)'\n",
      " 'cat__Time_Format_5 Rnd (5-5-5-5-5)' 'remainder__Fight_Title_Bout']\n"
     ]
    }
   ],
   "source": [
    "# Get the selected feature indices after SelectKBest() in the best estimator\n",
    "selected_feature_indices = model.best_estimator_.named_steps['selector'].get_support(indices=True)\n",
    "\n",
    "# Get the column names of the selected features\n",
    "selected_feature_names = preprocessor.get_feature_names_out()[selected_feature_indices]\n",
    "print('Columns after feature selection: ', selected_feature_names)"
   ]
  },
  {
   "cell_type": "code",
   "execution_count": 28,
   "id": "678d7fab",
   "metadata": {},
   "outputs": [
    {
     "data": {
      "image/png": "[encoded data removed]",
      "text/plain": [
       "<Figure size 640x480 with 2 Axes>"
      ]
     },
     "metadata": {},
     "output_type": "display_data"
    },
    {
     "name": "stderr",
     "output_type": "stream",
     "text": [
      "c:\\users\\mewash\\desktop\\datascienceprojectpython\\myenv\\lib\\site-packages\\sklearn\\metrics\\_classification.py:1344: UndefinedMetricWarning: Precision and F-score are ill-defined and being set to 0.0 in labels with no predicted samples. Use `zero_division` parameter to control this behavior.\n",
      "  _warn_prf(average, modifier, msg_start, len(result))\n",
      "c:\\users\\mewash\\desktop\\datascienceprojectpython\\myenv\\lib\\site-packages\\sklearn\\metrics\\_classification.py:1344: UndefinedMetricWarning: Precision and F-score are ill-defined and being set to 0.0 in labels with no predicted samples. Use `zero_division` parameter to control this behavior.\n",
      "  _warn_prf(average, modifier, msg_start, len(result))\n",
      "c:\\users\\mewash\\desktop\\datascienceprojectpython\\myenv\\lib\\site-packages\\sklearn\\metrics\\_classification.py:1344: UndefinedMetricWarning: Precision and F-score are ill-defined and being set to 0.0 in labels with no predicted samples. Use `zero_division` parameter to control this behavior.\n",
      "  _warn_prf(average, modifier, msg_start, len(result))\n"
     ]
    },
    {
     "name": "stdout",
     "output_type": "stream",
     "text": [
      "              precision    recall  f1-score   support\n",
      "\n",
      "         Red     0.6536    0.7688    0.7065       653\n",
      "        Draw     0.0000    0.0000    0.0000         7\n",
      "  No contest     0.0000    0.0000    0.0000         8\n",
      "        Blue     0.6161    0.4951    0.5490       509\n",
      "\n",
      "    accuracy                         0.6406      1177\n",
      "   macro avg     0.3174    0.3160    0.3139      1177\n",
      "weighted avg     0.6291    0.6406    0.6294      1177\n",
      "\n",
      "Accuracy on the test set:  0.6406117247238743\n",
      "Micro-average ROC_AUC_score: 0.8963346131737178\n"
     ]
    }
   ],
   "source": [
    "# storing accuracy score:\n",
    "acc_sco = accuracy_score(Y_test, model.predict(X_test)) \n",
    "\n",
    "# construction confusion matrix\n",
    "cm = conf_mat(model, Y_test)\n",
    "\n",
    "# The LinearSVC() in sklearn doesn't offer the predict_proba() method, so we need to have workaround for that.\n",
    "# It can be accomplished by the following:\n",
    "calibrated_model = CalibratedClassifierCV(model.best_estimator_, cv='prefit')\n",
    "calibrated_model.fit(X_train, Y_train)\n",
    "# get predicted probabilities\n",
    "Y_pred_prob = calibrated_model.predict_proba(X_test)\n",
    "roc_auc_micro = roc_auc_score(Y_test, Y_pred_prob, multi_class='ovr', average='micro')\n",
    "\n",
    "# store model results in tuned_models dictionary\n",
    "print('Accuracy on the test set: ',acc_sco)\n",
    "print('Micro-average ROC_AUC_score:', roc_auc_micro)\n",
    "tuned_models['LinearSVC'] = {'accuracy': acc_sco, 'model': model, 'confusion_matrix': cm}"
   ]
  },
  {
   "cell_type": "markdown",
   "id": "f45dac8f",
   "metadata": {},
   "source": [
    "## Gaussian Naive Bayes\n",
    "\n",
    "Gaussian Naive Bayes (GaussianNB)"
   ]
  },
  {
   "cell_type": "code",
   "execution_count": null,
   "id": "5dca09b8",
   "metadata": {},
   "outputs": [],
   "source": [
    "# starting the timer to see how much time it takes\n",
    "start_time = time.time()\n",
    "\n",
    "# Let's define the model\n",
    "pipeline = Pipeline([\n",
    "    ('preprocessor', preprocessor),\n",
    "    ('imputer', KNNImputer()),\n",
    "    ('selector', SelectKBest()),\n",
    "    ('model', GaussianNB())\n",
    "])\n",
    "\n",
    "\n",
    "# Define the parameter grid\n",
    "param_grid = {\n",
    "    'selector__k': [1, 2, 3, 4, 5, 10, 20, 30, 40, 50, 60, 70, 80, 90, 120, 150, len(preprocessor.get_feature_names_out())],\n",
    "}\n",
    "# create the grid search object\n",
    "grid_search = GridSearchCV(pipeline, param_grid=param_grid, cv=5, verbose=2, n_jobs=-1)\n",
    "\n",
    "# fit the grid search object to the data\n",
    "grid_search.fit(X_train, Y_train)\n",
    "\n",
    "# evaluate the best model on the test set\n",
    "score = grid_search.score(X_test, Y_test)\n",
    "\n",
    "# stopping the timer and seeing the result: ------------------------\n",
    "end_time = time.time()\n",
    "\n",
    "print('Accuracy on the test set: ', score)\n",
    "print('\\nBest parameters after the grid search: ', grid_search.best_params_)\n",
    "print(\"\\nTime taken for model to learn: \", end_time - start_time, \" seconds\")"
   ]
  },
  {
   "cell_type": "code",
   "execution_count": null,
   "id": "d132e36b",
   "metadata": {},
   "outputs": [],
   "source": [
    "# save the model to disk using pickle\n",
    "if input('Are you sure you want to run this cell? It will overwrite current best model. Y/N: ') == 'Y':\n",
    "    with open('trained_models/best_GaussianNB_model_closed_odds.pkl', 'wb') as f:\n",
    "        pickle.dump(grid_search, f)"
   ]
  },
  {
   "cell_type": "code",
   "execution_count": 29,
   "id": "34b8a48b",
   "metadata": {},
   "outputs": [
    {
     "name": "stdout",
     "output_type": "stream",
     "text": [
      "Best parameters after the grid search:  {'selector__k': 1}\n"
     ]
    }
   ],
   "source": [
    "# load the best model from disk using pickle\n",
    "with open('trained_models/best_GaussianNB_model_closed_odds.pkl', 'rb') as f:\n",
    "    model = pickle.load(f)\n",
    " \n",
    "print('Best parameters after the grid search: ', model.best_params_)"
   ]
  },
  {
   "cell_type": "code",
   "execution_count": 30,
   "id": "3a5a7b42",
   "metadata": {
    "scrolled": true
   },
   "outputs": [
    {
     "name": "stdout",
     "output_type": "stream",
     "text": [
      "Columns after feature selection:  ['num__B_Closing_Odds']\n"
     ]
    }
   ],
   "source": [
    "# Get the selected feature indices after SelectKBest() in the best estimator\n",
    "selected_feature_indices = model.best_estimator_.named_steps['selector'].get_support(indices=True)\n",
    "\n",
    "# Get the column names of the selected features\n",
    "selected_feature_names = preprocessor.get_feature_names_out()[selected_feature_indices]\n",
    "print('Columns after feature selection: ', selected_feature_names)"
   ]
  },
  {
   "cell_type": "code",
   "execution_count": 31,
   "id": "abef32d5",
   "metadata": {},
   "outputs": [
    {
     "data": {
      "image/png": "[encoded data removed]",
      "text/plain": [
       "<Figure size 640x480 with 2 Axes>"
      ]
     },
     "metadata": {},
     "output_type": "display_data"
    },
    {
     "name": "stdout",
     "output_type": "stream",
     "text": [
      "              precision    recall  f1-score   support\n",
      "\n",
      "         Red     0.6776    0.6983    0.6878       653\n",
      "        Draw     0.0000    0.0000    0.0000         7\n",
      "  No contest     0.0000    0.0000    0.0000         8\n",
      "        Blue     0.5913    0.5855    0.5884       509\n",
      "\n",
      "    accuracy                         0.6406      1177\n",
      "   macro avg     0.3172    0.3209    0.3190      1177\n",
      "weighted avg     0.6316    0.6406    0.6360      1177\n",
      "\n",
      "Accuracy on the test set:  0.6406117247238743\n",
      "Micro-average ROC_AUC_score: 0.8948293149136415\n"
     ]
    },
    {
     "name": "stderr",
     "output_type": "stream",
     "text": [
      "c:\\users\\mewash\\desktop\\datascienceprojectpython\\myenv\\lib\\site-packages\\sklearn\\metrics\\_classification.py:1344: UndefinedMetricWarning: Precision and F-score are ill-defined and being set to 0.0 in labels with no predicted samples. Use `zero_division` parameter to control this behavior.\n",
      "  _warn_prf(average, modifier, msg_start, len(result))\n",
      "c:\\users\\mewash\\desktop\\datascienceprojectpython\\myenv\\lib\\site-packages\\sklearn\\metrics\\_classification.py:1344: UndefinedMetricWarning: Precision and F-score are ill-defined and being set to 0.0 in labels with no predicted samples. Use `zero_division` parameter to control this behavior.\n",
      "  _warn_prf(average, modifier, msg_start, len(result))\n",
      "c:\\users\\mewash\\desktop\\datascienceprojectpython\\myenv\\lib\\site-packages\\sklearn\\metrics\\_classification.py:1344: UndefinedMetricWarning: Precision and F-score are ill-defined and being set to 0.0 in labels with no predicted samples. Use `zero_division` parameter to control this behavior.\n",
      "  _warn_prf(average, modifier, msg_start, len(result))\n"
     ]
    }
   ],
   "source": [
    "# storing accuracy score:\n",
    "acc_sco = accuracy_score(Y_test, model.predict(X_test)) \n",
    "\n",
    "# construction confusion matrix\n",
    "cm = conf_mat(model, Y_test)\n",
    "\n",
    "# Compute micro-average ROC AUC score\n",
    "Y_pred_prob = model.predict_proba(X_test)\n",
    "roc_auc_micro = roc_auc_score(Y_test, Y_pred_prob, multi_class='ovr', average='micro')\n",
    "\n",
    "# store model results in tuned_models dictionary\n",
    "print('Accuracy on the test set: ',acc_sco)\n",
    "print('Micro-average ROC_AUC_score:', roc_auc_micro)\n",
    "tuned_models['Gaussian_NB'] = {'accuracy': acc_sco, 'model': model, 'confusion_matrix': cm}"
   ]
  },
  {
   "cell_type": "markdown",
   "id": "437eed00",
   "metadata": {},
   "source": [
    "## KNN\n",
    "\n",
    "Classifier implementing the k-nearest neighbors vote."
   ]
  },
  {
   "cell_type": "code",
   "execution_count": null,
   "id": "2eaf509f",
   "metadata": {},
   "outputs": [],
   "source": [
    "# starting the timer to see how much time it takes\n",
    "start_time = time.time()\n",
    "\n",
    "# Let's define the model\n",
    "pipeline = Pipeline([\n",
    "    ('preprocessor', preprocessor),\n",
    "    ('imputer', KNNImputer()),\n",
    "    ('selector', SelectKBest()),\n",
    "    ('model', KNeighborsClassifier())\n",
    "])\n",
    "\n",
    "\n",
    "# Define the parameter grid\n",
    "param_grid = {\n",
    "    'selector__k': [5, 10, 15, 20, 30, 40, 50, 60, 90, 140, len(preprocessor.get_feature_names_out())],\n",
    "    'model__n_neighbors': [3, 5, 7, 9, 11, 13, 15],\n",
    "    'model__weights': ['uniform', 'distance'],\n",
    "    'model__metric': ['euclidean', 'manhattan', 'minkowski']\n",
    "}\n",
    "# create the grid search object\n",
    "grid_search = GridSearchCV(pipeline, param_grid=param_grid, cv=5, verbose=2, n_jobs=3)\n",
    "\n",
    "# fit the grid search object to the data\n",
    "grid_search.fit(X_train, Y_train)\n",
    "\n",
    "# evaluate the best model on the test set\n",
    "score = grid_search.score(X_test, Y_test)\n",
    "\n",
    "# stopping the timer and seeing the result: ------------------------\n",
    "end_time = time.time()\n",
    "\n",
    "print('Accuracy on the test set: ', score)\n",
    "print('\\nBest parameters after the grid search: ', grid_search.best_params_)\n",
    "print(\"\\nTime taken for model to learn: \", end_time - start_time, \" seconds\")"
   ]
  },
  {
   "cell_type": "code",
   "execution_count": null,
   "id": "4e45a040",
   "metadata": {},
   "outputs": [],
   "source": [
    "# save the model to disk using pickle\n",
    "if input('Are you sure you want to run this cell? It will overwrite current best model. Y/N: ') == 'Y':\n",
    "    with open('trained_models/best_KNN_model_closed_odds.pkl', 'wb') as f:\n",
    "        pickle.dump(grid_search, f)"
   ]
  },
  {
   "cell_type": "code",
   "execution_count": 32,
   "id": "9d444799",
   "metadata": {},
   "outputs": [
    {
     "name": "stdout",
     "output_type": "stream",
     "text": [
      "Best parameters after the grid search:  {'model__metric': 'manhattan', 'model__n_neighbors': 15, 'model__weights': 'uniform', 'selector__k': 30}\n"
     ]
    }
   ],
   "source": [
    "# load the best model from disk using pickle\n",
    "with open('trained_models/best_KNN_model_closed_odds.pkl', 'rb') as f:\n",
    "    model = pickle.load(f)\n",
    " \n",
    "print('Best parameters after the grid search: ', model.best_params_)"
   ]
  },
  {
   "cell_type": "code",
   "execution_count": 33,
   "id": "05280429",
   "metadata": {},
   "outputs": [
    {
     "name": "stdout",
     "output_type": "stream",
     "text": [
      "Columns after feature selection:  ['num__R_Age' 'num__R_Total_Knockdowns'\n",
      " 'num__R_Average_Significant_Strikes_on_Ground_Attempted'\n",
      " 'num__R_Winning_Streak' 'num__R_Losing_Streak'\n",
      " 'num__R_Total_Number_of_Wins_By_Split_Decision'\n",
      " 'num__R_Total_Number_of_Fights' 'num__R_Win_%'\n",
      " 'num__R_Opp_Average_Knockdowns' 'num__R_Opp_Significant_Strikes_%_Landed'\n",
      " 'num__R_Opp_Average_Strikes_Landed' 'num__R_Opp_Total_Strikes_%_Landed'\n",
      " 'num__R_Opp_Average_Submission_Attempts' 'num__R_Opp_Average_Control'\n",
      " 'num__R_Opp_Average_Significant_Strikes_on_Head_Landed'\n",
      " 'num__R_Opp_Significant_Strikes_on_Head_%_Landed'\n",
      " 'num__R_Opp_Significant_Strikes_on_Body_%_Landed'\n",
      " 'num__R_Opp_Significant_Strikes_at_Distance_%_Landed'\n",
      " 'num__R_Opp_Average_Significant_Strikes_on_Ground_Attempted'\n",
      " 'num__R_Opp_Average_Significant_Strikes_on_Ground_Landed' 'num__B_Age'\n",
      " 'num__B_Average_Takedowns_Landed'\n",
      " 'num__B_Average_Significant_Strikes_on_Ground_Attempted'\n",
      " 'num__B_Average_Significant_Strikes_on_Ground_Landed'\n",
      " 'num__B_Winning_Streak' 'num__R_Open_Odds' 'num__B_Open_Odds'\n",
      " 'num__R_Closing_Odds' 'num__B_Closing_Odds' 'cat__B_Stance_nan']\n"
     ]
    }
   ],
   "source": [
    "# Get the selected feature indices after SelectKBest() in the best estimator\n",
    "selected_feature_indices = model.best_estimator_.named_steps['selector'].get_support(indices=True)\n",
    "\n",
    "# Get the column names of the selected features\n",
    "selected_feature_names = preprocessor.get_feature_names_out()[selected_feature_indices]\n",
    "print('Columns after feature selection: ', selected_feature_names)"
   ]
  },
  {
   "cell_type": "code",
   "execution_count": 34,
   "id": "be4fffa5",
   "metadata": {},
   "outputs": [
    {
     "data": {
      "image/png": "[encoded data removed]",
      "text/plain": [
       "<Figure size 640x480 with 2 Axes>"
      ]
     },
     "metadata": {},
     "output_type": "display_data"
    },
    {
     "name": "stdout",
     "output_type": "stream",
     "text": [
      "              precision    recall  f1-score   support\n",
      "\n",
      "         Red     0.6475    0.7427    0.6919       653\n",
      "        Draw     0.0000    0.0000    0.0000         7\n",
      "  No contest     0.0000    0.0000    0.0000         8\n",
      "        Blue     0.5911    0.4971    0.5400       509\n",
      "\n",
      "    accuracy                         0.6270      1177\n",
      "   macro avg     0.3097    0.3099    0.3080      1177\n",
      "weighted avg     0.6149    0.6270    0.6174      1177\n",
      "\n",
      "Accuracy on the test set:  0.627017841971113\n",
      "Micro-average ROC_AUC_score: 0.886160014456253\n"
     ]
    },
    {
     "name": "stderr",
     "output_type": "stream",
     "text": [
      "c:\\users\\mewash\\desktop\\datascienceprojectpython\\myenv\\lib\\site-packages\\sklearn\\metrics\\_classification.py:1344: UndefinedMetricWarning: Precision and F-score are ill-defined and being set to 0.0 in labels with no predicted samples. Use `zero_division` parameter to control this behavior.\n",
      "  _warn_prf(average, modifier, msg_start, len(result))\n",
      "c:\\users\\mewash\\desktop\\datascienceprojectpython\\myenv\\lib\\site-packages\\sklearn\\metrics\\_classification.py:1344: UndefinedMetricWarning: Precision and F-score are ill-defined and being set to 0.0 in labels with no predicted samples. Use `zero_division` parameter to control this behavior.\n",
      "  _warn_prf(average, modifier, msg_start, len(result))\n",
      "c:\\users\\mewash\\desktop\\datascienceprojectpython\\myenv\\lib\\site-packages\\sklearn\\metrics\\_classification.py:1344: UndefinedMetricWarning: Precision and F-score are ill-defined and being set to 0.0 in labels with no predicted samples. Use `zero_division` parameter to control this behavior.\n",
      "  _warn_prf(average, modifier, msg_start, len(result))\n"
     ]
    }
   ],
   "source": [
    "# storing accuracy score:\n",
    "acc_sco = accuracy_score(Y_test, model.predict(X_test)) \n",
    "\n",
    "# construction confusion matrix\n",
    "cm = conf_mat(model, Y_test)\n",
    "\n",
    "# Compute micro-average ROC AUC score\n",
    "Y_pred_prob = model.predict_proba(X_test)\n",
    "roc_auc_micro = roc_auc_score(Y_test, Y_pred_prob, multi_class='ovr', average='micro')\n",
    "\n",
    "# store model results in tuned_models dictionary\n",
    "print('Accuracy on the test set: ',acc_sco)\n",
    "print('Micro-average ROC_AUC_score:', roc_auc_micro)\n",
    "tuned_models['KNN'] = {'accuracy': acc_sco, 'model': model, 'confusion_matrix': cm}"
   ]
  },
  {
   "cell_type": "markdown",
   "id": "fa573a2b",
   "metadata": {},
   "source": [
    "## Logistic Regression\n",
    "\n",
    "Logistic Regression (aka logit, MaxEnt) classifier.\n"
   ]
  },
  {
   "cell_type": "code",
   "execution_count": null,
   "id": "b74a8b57",
   "metadata": {},
   "outputs": [],
   "source": [
    "# starting the timer to see how much time it takes\n",
    "start_time = time.time()\n",
    "\n",
    "# Let's define the model\n",
    "pipeline = Pipeline([\n",
    "    ('preprocessor', preprocessor),\n",
    "    ('imputer', KNNImputer()),\n",
    "    ('selector', SelectKBest()),\n",
    "    ('model', LogisticRegression(random_state=2023))\n",
    "])\n",
    "\n",
    "\n",
    "# Define the parameter grid\n",
    "param_grid = {\n",
    "    'selector__k': [5, 10, 20, 30, 40, 50, 60, 70, 80, 90, 100, 140, len(preprocessor.get_feature_names_out())],\n",
    "    'model__penalty': ['l2'],\n",
    "    'model__C': [0.01, 0.1, 1.0],\n",
    "    'model__solver': ['newton-cg', 'lbfgs', 'sag', 'saga'],\n",
    "    'model__max_iter': [50, 100, 150, 200, 300],\n",
    "    'model__tol': [0.001, 0.0001, 0.00001]\n",
    "}\n",
    "# create the grid search object\n",
    "grid_search = GridSearchCV(pipeline, param_grid=param_grid, cv=5, verbose=2, n_jobs=3)\n",
    "\n",
    "# fit the grid search object to the data\n",
    "grid_search.fit(X_train, Y_train)\n",
    "\n",
    "# evaluate the best model on the test set\n",
    "score = grid_search.score(X_test, Y_test)\n",
    "\n",
    "# stopping the timer and seeing the result: ------------------------\n",
    "end_time = time.time()\n",
    "\n",
    "print('Accuracy on the test set: ', score)\n",
    "print('\\nBest parameters after the grid search: ', grid_search.best_params_)\n",
    "print(\"\\nTime taken for model to learn: \", end_time - start_time, \" seconds\")"
   ]
  },
  {
   "cell_type": "code",
   "execution_count": null,
   "id": "a3ba366b",
   "metadata": {},
   "outputs": [],
   "source": [
    "# save the model to disk using pickle\n",
    "if input('Are you sure you want to run this cell? It will overwrite current best model. Y/N: ') == 'Y':\n",
    "    with open('trained_models/best_logistic_regression_closed_odds.pkl', 'wb') as f:\n",
    "        pickle.dump(grid_search, f)"
   ]
  },
  {
   "cell_type": "code",
   "execution_count": 35,
   "id": "a2a13097",
   "metadata": {},
   "outputs": [
    {
     "name": "stdout",
     "output_type": "stream",
     "text": [
      "Best parameters after the grid search:  {'model__C': 1.0, 'model__max_iter': 50, 'model__penalty': 'l2', 'model__solver': 'lbfgs', 'model__tol': 0.001, 'selector__k': 20}\n"
     ]
    }
   ],
   "source": [
    "# load the best model from disk using pickle\n",
    "with open('trained_models/best_logistic_regression_closed_odds.pkl', 'rb') as f:\n",
    "    model = pickle.load(f)\n",
    " \n",
    "print('Best parameters after the grid search: ', model.best_params_)"
   ]
  },
  {
   "cell_type": "code",
   "execution_count": 36,
   "id": "6544030a",
   "metadata": {},
   "outputs": [
    {
     "name": "stdout",
     "output_type": "stream",
     "text": [
      "Columns after feature selection:  ['num__R_Age' 'num__R_Losing_Streak'\n",
      " 'num__R_Total_Number_of_Wins_By_Split_Decision'\n",
      " 'num__R_Total_Number_of_Fights' 'num__R_Win_%'\n",
      " 'num__R_Opp_Average_Knockdowns' 'num__R_Opp_Significant_Strikes_%_Landed'\n",
      " 'num__R_Opp_Total_Strikes_%_Landed'\n",
      " 'num__R_Opp_Average_Submission_Attempts' 'num__R_Opp_Average_Control'\n",
      " 'num__R_Opp_Significant_Strikes_on_Head_%_Landed'\n",
      " 'num__R_Opp_Average_Significant_Strikes_on_Ground_Attempted'\n",
      " 'num__R_Opp_Average_Significant_Strikes_on_Ground_Landed' 'num__B_Age'\n",
      " 'num__B_Average_Significant_Strikes_on_Ground_Attempted'\n",
      " 'num__B_Average_Significant_Strikes_on_Ground_Landed' 'num__R_Open_Odds'\n",
      " 'num__B_Open_Odds' 'num__R_Closing_Odds' 'num__B_Closing_Odds']\n"
     ]
    }
   ],
   "source": [
    "# Get the selected feature indices after SelectKBest() in the best estimator\n",
    "selected_feature_indices = model.best_estimator_.named_steps['selector'].get_support(indices=True)\n",
    "\n",
    "# Get the column names of the selected features\n",
    "selected_feature_names = preprocessor.get_feature_names_out()[selected_feature_indices]\n",
    "print('Columns after feature selection: ', selected_feature_names)"
   ]
  },
  {
   "cell_type": "code",
   "execution_count": 37,
   "id": "97adb1f4",
   "metadata": {},
   "outputs": [
    {
     "data": {
      "image/png": "[encoded data removed]",
      "text/plain": [
       "<Figure size 640x480 with 2 Axes>"
      ]
     },
     "metadata": {},
     "output_type": "display_data"
    },
    {
     "name": "stdout",
     "output_type": "stream",
     "text": [
      "              precision    recall  f1-score   support\n",
      "\n",
      "         Red     0.6605    0.7657    0.7092       653\n",
      "        Draw     0.0000    0.0000    0.0000         7\n",
      "  No contest     0.0000    0.0000    0.0000         8\n",
      "        Blue     0.6167    0.5088    0.5576       509\n",
      "\n",
      "    accuracy                         0.6449      1177\n",
      "   macro avg     0.3193    0.3186    0.3167      1177\n",
      "weighted avg     0.6331    0.6449    0.6346      1177\n",
      "\n",
      "Accuracy on the test set:  0.6448598130841121\n",
      "Micro-average ROC_AUC_score: 0.8959703194451764\n"
     ]
    },
    {
     "name": "stderr",
     "output_type": "stream",
     "text": [
      "c:\\users\\mewash\\desktop\\datascienceprojectpython\\myenv\\lib\\site-packages\\sklearn\\metrics\\_classification.py:1344: UndefinedMetricWarning: Precision and F-score are ill-defined and being set to 0.0 in labels with no predicted samples. Use `zero_division` parameter to control this behavior.\n",
      "  _warn_prf(average, modifier, msg_start, len(result))\n",
      "c:\\users\\mewash\\desktop\\datascienceprojectpython\\myenv\\lib\\site-packages\\sklearn\\metrics\\_classification.py:1344: UndefinedMetricWarning: Precision and F-score are ill-defined and being set to 0.0 in labels with no predicted samples. Use `zero_division` parameter to control this behavior.\n",
      "  _warn_prf(average, modifier, msg_start, len(result))\n",
      "c:\\users\\mewash\\desktop\\datascienceprojectpython\\myenv\\lib\\site-packages\\sklearn\\metrics\\_classification.py:1344: UndefinedMetricWarning: Precision and F-score are ill-defined and being set to 0.0 in labels with no predicted samples. Use `zero_division` parameter to control this behavior.\n",
      "  _warn_prf(average, modifier, msg_start, len(result))\n"
     ]
    }
   ],
   "source": [
    "# storing accuracy score:\n",
    "acc_sco = accuracy_score(Y_test, model.predict(X_test)) \n",
    "\n",
    "# construction confusion matrix\n",
    "cm = conf_mat(model, Y_test)\n",
    "\n",
    "# Compute micro-average ROC AUC score\n",
    "Y_pred_prob = model.predict_proba(X_test)\n",
    "roc_auc_micro = roc_auc_score(Y_test, Y_pred_prob, multi_class='ovr', average='micro')\n",
    "\n",
    "# store model results in tuned_models dictionary\n",
    "print('Accuracy on the test set: ',acc_sco)\n",
    "print('Micro-average ROC_AUC_score:', roc_auc_micro)\n",
    "tuned_models['Logistic_Regression'] = {'accuracy': acc_sco, 'model': model, 'confusion_matrix': cm}"
   ]
  },
  {
   "cell_type": "markdown",
   "id": "3243ead1",
   "metadata": {},
   "source": [
    "# FINAL TUNEL MODELS COMPARISON\n",
    "\n",
    "Here we assess the performance of each model\n"
   ]
  },
  {
   "cell_type": "code",
   "execution_count": 38,
   "id": "a8221224",
   "metadata": {},
   "outputs": [
    {
     "data": {
      "image/png": "[encoded data removed]",
      "text/plain": [
       "<Figure size 640x480 with 1 Axes>"
      ]
     },
     "metadata": {},
     "output_type": "display_data"
    }
   ],
   "source": [
    "plot_models_acc(tuned_models, naive_classifier)"
   ]
  },
  {
   "cell_type": "markdown",
   "id": "65385da5",
   "metadata": {},
   "source": [
    "# NOTES\n",
    "\n",
    "If the odds are available before the fight, then there is nothing inherently wrong with using them as a predictor. However, it's important to keep in mind that any information used for prediction should be available at the time the prediction is made. If the model is trained on data that includes information (such as odds) that would not be available at the time of prediction, then the model may overfit to the training data and perform poorly on new, unseen data.\n",
    "\n",
    "Additionally, it's important to consider the ethics of using betting odds for predictive modeling. While it may be legal to use this information for research purposes, it could be seen as promoting gambling or taking advantage of vulnerable populations. It's important to approach this type of research with sensitivity and to consider the potential impacts of the research on society."
   ]
  }
 ],
 "metadata": {
  "kernelspec": {
   "display_name": "Python 3 (ipykernel)",
   "language": "python",
   "name": "python3"
  },
  "language_info": {
   "codemirror_mode": {
    "name": "ipython",
    "version": 3
   },
   "file_extension": ".py",
   "mimetype": "text/x-python",
   "name": "python",
   "nbconvert_exporter": "python",
   "pygments_lexer": "ipython3",
   "version": "3.8.2"
  }
 },
 "nbformat": 4,
 "nbformat_minor": 5
}
