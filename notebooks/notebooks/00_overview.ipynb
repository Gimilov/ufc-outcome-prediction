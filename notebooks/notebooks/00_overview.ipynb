{
 "cells": [
  {
   "cell_type": "code",
   "execution_count": null,
   "id": "48f08afe",
   "metadata": {},
   "outputs": [],
   "source": []
  },
  {
   "cell_type": "markdown",
   "id": "43f6212a",
   "metadata": {},
   "source": [
    "## What is python"
   ]
  },
  {
   "cell_type": "markdown",
   "id": "aa10cab3",
   "metadata": {},
   "source": [
    "[Python](http://www.python.org/) is a modern, general-purpose, object-oriented, high-level programming language.\n",
    "\n",
    "General characteristics of Python:\n",
    "\n",
    "* **simple and clean:** Python code is easy-to-read and intuitive, has easy-to-learn minimalistic syntax, and maintainability scales well with size of projects.\n",
    "* **expressive language:** Fewer lines of code, fewer bugs, easier to maintain.\n",
    "\n",
    "Technical details:\n",
    "\n",
    "* **dynamically typed:** No need to define the type of variables, function arguments or return types.\n",
    "* **automatic memory management:** No need to explicitly allocate and deallocate memory for variables and data arrays. No memory leak bugs. \n",
    "* **interpreted:** No need to compile the code. The Python interpreter reads and executes the python code directly.\n",
    "\n",
    "Advantages:\n",
    "\n",
    "* The main advantage is ease of programming, minimizing the time required to develop, debug and maintain the code.\n",
    "* Well designed language that encourage many good programming practices:\n",
    " * Modular and object-oriented programming, good system for packaging and re-use of code. This often results in more transparent, maintainable and bug-free code.\n",
    " * Documentation tightly integrated with the code.\n",
    "* A large standard library, and a large collection of add-on packages.\n",
    "\n",
    "Disadvantages:\n",
    "\n",
    "* Since Python is an interpreted and dynamically typed programming language, the execution of python code can be slow compared to compiled statically typed programming languages, such as C and Fortran. \n",
    "* Somewhat decentralized, with different environment, packages and documentation spread out at different places. Can make it harder to get started."
   ]
  },
  {
   "cell_type": "markdown",
   "id": "28f6f6c9",
   "metadata": {},
   "source": [
    "## Popular Language for Data Analysis"
   ]
  },
  {
   "cell_type": "markdown",
   "id": "afc7d1b9",
   "metadata": {},
   "source": [
    "Most of the time, you will need external packages to asist data analyses.\n",
    "\n",
    "<img src=\"images/packages.png\" width=\"800\">"
   ]
  },
  {
   "cell_type": "markdown",
   "id": "4b345858",
   "metadata": {},
   "source": [
    "## The Zen of Python"
   ]
  },
  {
   "cell_type": "code",
   "execution_count": null,
   "id": "37385c49",
   "metadata": {},
   "outputs": [],
   "source": [
    "import this"
   ]
  },
  {
   "cell_type": "markdown",
   "id": "fdf51d35",
   "metadata": {},
   "source": [
    "## Variables"
   ]
  },
  {
   "cell_type": "markdown",
   "id": "45e0bc26",
   "metadata": {},
   "source": [
    "Vairables can be considered __containers__. You can put anything inside a container, __without specifying the size or type__, which will be needed in Java or C. \n",
    "\n",
    "Note that Python is case-sensitive. Be careful about using letters in different cases.\n",
    "\n",
    "When assigning values, we put the variable to be assigned to on the left hand side (LHS), while the value to plug in on the RHS. LHS and RHS are connected by an equal sign (`=`), meaning assignment."
   ]
  },
  {
   "cell_type": "code",
   "execution_count": null,
   "id": "945e20ac",
   "metadata": {},
   "outputs": [],
   "source": [
    "x = 3 # integer\n",
    "y = 3. # floating point number\n",
    "z = \"Hello!\" # strings\n",
    "Z = \"Wonderful!\" # another string, stored in a variable big z.\n",
    "print(x)\n",
    "print(y)\n",
    "print(z)\n",
    "print(Z)"
   ]
  },
  {
   "cell_type": "markdown",
   "id": "b62822d2",
   "metadata": {},
   "source": [
    "## Naming convention"
   ]
  },
  {
   "cell_type": "markdown",
   "id": "c6998e0c",
   "metadata": {},
   "source": [
    "There are two commonly used style in programming:\n",
    "\n",
    "1. __camelCase__\n",
    "2. __snake_case__ or __lower_case_with_underscore__\n",
    "\n",
    "Please look into the pep8 under [naming conventions](https://peps.python.org/pep-0008/#naming-conventions) for more information."
   ]
  },
  {
   "cell_type": "markdown",
   "id": "18f4105e",
   "metadata": {},
   "source": [
    "## Whitespace Formatting"
   ]
  },
  {
   "cell_type": "markdown",
   "id": "00cbb4ba",
   "metadata": {},
   "source": [
    "Manyu languages use curly braces to delimit blocks of code. Python uses indentation (four spaces):"
   ]
  },
  {
   "cell_type": "code",
   "execution_count": null,
   "id": "30cb2f50",
   "metadata": {},
   "outputs": [],
   "source": [
    "for i in [1, 2, 3, 4, 5]:\n",
    "    print(i)                    # first line in \"for i\" block\n",
    "    for j in [1, 2, 3, 4, 5]:\n",
    "        print(j)                # first line in \"for j\" block\n",
    "        print(i + j)            # last line in \"for j\" block\n",
    "    print(i)                    # last line in \"for i\" block\n",
    "print(\"done looping\")"
   ]
  },
  {
   "cell_type": "markdown",
   "id": "08fe73f5",
   "metadata": {},
   "source": [
    "## Notebooks"
   ]
  },
  {
   "cell_type": "markdown",
   "id": "f7813756",
   "metadata": {},
   "source": [
    "1. [Strings](basic/01_strings.ipynb)\n",
    "1. [Numbers](basic/02_numbers.ipynb)\n",
    "1. [Lists](basic/03_lists.ipynb)\n",
    "1. [Dictionaries](basic/04_dictionaries.ipynb)\n",
    "1. [Conditionals](basic/05_conditionals.ipynb)\n",
    "1. [For loops](basic/06_for_loops.ipynb)"
   ]
  }
 ],
 "metadata": {
  "kernelspec": {
   "display_name": "Python 3 (ipykernel)",
   "language": "python",
   "name": "python3"
  },
  "language_info": {
   "codemirror_mode": {
    "name": "ipython",
    "version": 3
   },
   "file_extension": ".py",
   "mimetype": "text/x-python",
   "name": "python",
   "nbconvert_exporter": "python",
   "pygments_lexer": "ipython3",
   "version": "3.8.2"
  }
 },
 "nbformat": 4,
 "nbformat_minor": 5
}
